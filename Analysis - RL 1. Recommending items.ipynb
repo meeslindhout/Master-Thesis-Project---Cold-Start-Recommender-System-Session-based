{
 "cells": [
  {
   "cell_type": "markdown",
   "metadata": {},
   "source": [
    "# Making predictions with the trained RL agent"
   ]
  },
  {
   "cell_type": "code",
   "execution_count": 16,
   "metadata": {},
   "outputs": [],
   "source": [
    "import torch\n",
    "import pandas as pd\n",
    "from src.recsys_rl import LogToEpisodeConverter, OfflineEnv, DQN, OfflineDQNAgent"
   ]
  },
  {
   "cell_type": "markdown",
   "metadata": {},
   "source": [
    "## Data loading"
   ]
  },
  {
   "cell_type": "markdown",
   "metadata": {},
   "source": [
    "polars data"
   ]
  },
  {
   "cell_type": "code",
   "execution_count": 17,
   "metadata": {},
   "outputs": [
    {
     "data": {
      "text/html": [
       "<div>\n",
       "<style scoped>\n",
       "    .dataframe tbody tr th:only-of-type {\n",
       "        vertical-align: middle;\n",
       "    }\n",
       "\n",
       "    .dataframe tbody tr th {\n",
       "        vertical-align: top;\n",
       "    }\n",
       "\n",
       "    .dataframe thead th {\n",
       "        text-align: right;\n",
       "    }\n",
       "</style>\n",
       "<table border=\"1\" class=\"dataframe\">\n",
       "  <thead>\n",
       "    <tr style=\"text-align: right;\">\n",
       "      <th></th>\n",
       "      <th>timestamp</th>\n",
       "      <th>visitorid</th>\n",
       "      <th>event</th>\n",
       "      <th>itemid</th>\n",
       "      <th>transactionid</th>\n",
       "      <th>new_session_mark</th>\n",
       "      <th>session_id</th>\n",
       "      <th>session_start_time</th>\n",
       "      <th>session_length</th>\n",
       "      <th>gssid</th>\n",
       "    </tr>\n",
       "  </thead>\n",
       "  <tbody>\n",
       "    <tr>\n",
       "      <th>0</th>\n",
       "      <td>2015-09-03 22:01:27.081</td>\n",
       "      <td>1532</td>\n",
       "      <td>0</td>\n",
       "      <td>303715</td>\n",
       "      <td>None</td>\n",
       "      <td>False</td>\n",
       "      <td>2</td>\n",
       "      <td>2015-09-03 22:01:27.081</td>\n",
       "      <td>0 days 00:05:00.350000</td>\n",
       "      <td>0000001532201509032201270300</td>\n",
       "    </tr>\n",
       "    <tr>\n",
       "      <th>1</th>\n",
       "      <td>2015-09-03 22:06:27.431</td>\n",
       "      <td>1532</td>\n",
       "      <td>0</td>\n",
       "      <td>303715</td>\n",
       "      <td>None</td>\n",
       "      <td>True</td>\n",
       "      <td>2</td>\n",
       "      <td>2015-09-03 22:01:27.081</td>\n",
       "      <td>0 days 00:05:00.350000</td>\n",
       "      <td>0000001532201509032206270300</td>\n",
       "    </tr>\n",
       "    <tr>\n",
       "      <th>2</th>\n",
       "      <td>2015-08-31 19:46:03.121</td>\n",
       "      <td>4248</td>\n",
       "      <td>0</td>\n",
       "      <td>281838</td>\n",
       "      <td>None</td>\n",
       "      <td>False</td>\n",
       "      <td>3</td>\n",
       "      <td>2015-08-31 19:46:03.121</td>\n",
       "      <td>0 days 00:01:43.021000</td>\n",
       "      <td>0000004248201508311946030103</td>\n",
       "    </tr>\n",
       "    <tr>\n",
       "      <th>3</th>\n",
       "      <td>2015-08-31 19:47:46.142</td>\n",
       "      <td>4248</td>\n",
       "      <td>0</td>\n",
       "      <td>44977</td>\n",
       "      <td>None</td>\n",
       "      <td>True</td>\n",
       "      <td>3</td>\n",
       "      <td>2015-08-31 19:46:03.121</td>\n",
       "      <td>0 days 00:01:43.021000</td>\n",
       "      <td>0000004248201508311947460103</td>\n",
       "    </tr>\n",
       "    <tr>\n",
       "      <th>4</th>\n",
       "      <td>2015-08-28 15:02:47.606</td>\n",
       "      <td>4531</td>\n",
       "      <td>0</td>\n",
       "      <td>1571</td>\n",
       "      <td>None</td>\n",
       "      <td>False</td>\n",
       "      <td>4</td>\n",
       "      <td>2015-08-28 15:02:47.606</td>\n",
       "      <td>0 days 00:02:01.135000</td>\n",
       "      <td>0000004531201508281502470121</td>\n",
       "    </tr>\n",
       "  </tbody>\n",
       "</table>\n",
       "</div>"
      ],
      "text/plain": [
       "                timestamp  visitorid  event  itemid transactionid  \\\n",
       "0 2015-09-03 22:01:27.081       1532      0  303715          None   \n",
       "1 2015-09-03 22:06:27.431       1532      0  303715          None   \n",
       "2 2015-08-31 19:46:03.121       4248      0  281838          None   \n",
       "3 2015-08-31 19:47:46.142       4248      0   44977          None   \n",
       "4 2015-08-28 15:02:47.606       4531      0    1571          None   \n",
       "\n",
       "   new_session_mark  session_id      session_start_time  \\\n",
       "0             False           2 2015-09-03 22:01:27.081   \n",
       "1              True           2 2015-09-03 22:01:27.081   \n",
       "2             False           3 2015-08-31 19:46:03.121   \n",
       "3              True           3 2015-08-31 19:46:03.121   \n",
       "4             False           4 2015-08-28 15:02:47.606   \n",
       "\n",
       "          session_length                         gssid  \n",
       "0 0 days 00:05:00.350000  0000001532201509032201270300  \n",
       "1 0 days 00:05:00.350000  0000001532201509032206270300  \n",
       "2 0 days 00:01:43.021000  0000004248201508311946030103  \n",
       "3 0 days 00:01:43.021000  0000004248201508311947460103  \n",
       "4 0 days 00:02:01.135000  0000004531201508281502470121  "
      ]
     },
     "execution_count": 17,
     "metadata": {},
     "output_type": "execute_result"
    }
   ],
   "source": [
    "# load temporary data (zodra datapreprocessing class klaar is, kan deze weg)\n",
    "import polars as pl\n",
    "train_data = pl.read_parquet('data/events_sample.parquet').to_pandas()\n",
    "train_data.head()"
   ]
  },
  {
   "cell_type": "markdown",
   "metadata": {},
   "source": [
    "pandas data"
   ]
  },
  {
   "cell_type": "code",
   "execution_count": 18,
   "metadata": {},
   "outputs": [
    {
     "data": {
      "text/html": [
       "<div>\n",
       "<style scoped>\n",
       "    .dataframe tbody tr th:only-of-type {\n",
       "        vertical-align: middle;\n",
       "    }\n",
       "\n",
       "    .dataframe tbody tr th {\n",
       "        vertical-align: top;\n",
       "    }\n",
       "\n",
       "    .dataframe thead th {\n",
       "        text-align: right;\n",
       "    }\n",
       "</style>\n",
       "<table border=\"1\" class=\"dataframe\">\n",
       "  <thead>\n",
       "    <tr style=\"text-align: right;\">\n",
       "      <th></th>\n",
       "      <th>SessionId</th>\n",
       "      <th>Time</th>\n",
       "      <th>ItemId</th>\n",
       "      <th>Date</th>\n",
       "      <th>Datestamp</th>\n",
       "      <th>TimeO</th>\n",
       "      <th>ItemSupport</th>\n",
       "    </tr>\n",
       "  </thead>\n",
       "  <tbody>\n",
       "    <tr>\n",
       "      <th>0</th>\n",
       "      <td>1</td>\n",
       "      <td>1.462752e+09</td>\n",
       "      <td>9654</td>\n",
       "      <td>2016-05-09</td>\n",
       "      <td>1.462752e+09</td>\n",
       "      <td>2016-05-09 00:01:15.848000+00:00</td>\n",
       "      <td>399</td>\n",
       "    </tr>\n",
       "    <tr>\n",
       "      <th>1</th>\n",
       "      <td>1</td>\n",
       "      <td>1.462752e+09</td>\n",
       "      <td>33043</td>\n",
       "      <td>2016-05-09</td>\n",
       "      <td>1.462752e+09</td>\n",
       "      <td>2016-05-09 00:02:53.912000+00:00</td>\n",
       "      <td>195</td>\n",
       "    </tr>\n",
       "    <tr>\n",
       "      <th>2</th>\n",
       "      <td>1</td>\n",
       "      <td>1.462752e+09</td>\n",
       "      <td>32118</td>\n",
       "      <td>2016-05-09</td>\n",
       "      <td>1.462752e+09</td>\n",
       "      <td>2016-05-09 00:04:03.569000+00:00</td>\n",
       "      <td>67</td>\n",
       "    </tr>\n",
       "    <tr>\n",
       "      <th>3</th>\n",
       "      <td>1</td>\n",
       "      <td>1.462752e+09</td>\n",
       "      <td>12352</td>\n",
       "      <td>2016-05-09</td>\n",
       "      <td>1.462752e+09</td>\n",
       "      <td>2016-05-09 00:05:29.870000+00:00</td>\n",
       "      <td>327</td>\n",
       "    </tr>\n",
       "    <tr>\n",
       "      <th>4</th>\n",
       "      <td>1</td>\n",
       "      <td>1.462752e+09</td>\n",
       "      <td>35077</td>\n",
       "      <td>2016-05-09</td>\n",
       "      <td>1.462752e+09</td>\n",
       "      <td>2016-05-09 00:06:30.072000+00:00</td>\n",
       "      <td>102</td>\n",
       "    </tr>\n",
       "  </tbody>\n",
       "</table>\n",
       "</div>"
      ],
      "text/plain": [
       "   SessionId          Time  ItemId        Date     Datestamp  \\\n",
       "0          1  1.462752e+09    9654  2016-05-09  1.462752e+09   \n",
       "1          1  1.462752e+09   33043  2016-05-09  1.462752e+09   \n",
       "2          1  1.462752e+09   32118  2016-05-09  1.462752e+09   \n",
       "3          1  1.462752e+09   12352  2016-05-09  1.462752e+09   \n",
       "4          1  1.462752e+09   35077  2016-05-09  1.462752e+09   \n",
       "\n",
       "                              TimeO  ItemSupport  \n",
       "0  2016-05-09 00:01:15.848000+00:00          399  \n",
       "1  2016-05-09 00:02:53.912000+00:00          195  \n",
       "2  2016-05-09 00:04:03.569000+00:00           67  \n",
       "3  2016-05-09 00:05:29.870000+00:00          327  \n",
       "4  2016-05-09 00:06:30.072000+00:00          102  "
      ]
     },
     "metadata": {},
     "output_type": "display_data"
    },
    {
     "data": {
      "text/plain": [
       "(859459, 7)"
      ]
     },
     "metadata": {},
     "output_type": "display_data"
    }
   ],
   "source": [
    "train_data = pd.read_csv(r'data\\retailrocket\\prepared\\train-item-views_train_tr.txt',\n",
    "                    sep='\\t',)\n",
    "display(train_data.head())\n",
    "display(train_data.shape)"
   ]
  },
  {
   "cell_type": "code",
   "execution_count": 19,
   "metadata": {},
   "outputs": [
    {
     "data": {
      "text/html": [
       "<div>\n",
       "<style scoped>\n",
       "    .dataframe tbody tr th:only-of-type {\n",
       "        vertical-align: middle;\n",
       "    }\n",
       "\n",
       "    .dataframe tbody tr th {\n",
       "        vertical-align: top;\n",
       "    }\n",
       "\n",
       "    .dataframe thead th {\n",
       "        text-align: right;\n",
       "    }\n",
       "</style>\n",
       "<table border=\"1\" class=\"dataframe\">\n",
       "  <thead>\n",
       "    <tr style=\"text-align: right;\">\n",
       "      <th></th>\n",
       "      <th>SessionId</th>\n",
       "      <th>Time</th>\n",
       "      <th>ItemId</th>\n",
       "      <th>Date</th>\n",
       "      <th>Datestamp</th>\n",
       "      <th>TimeO</th>\n",
       "      <th>ItemSupport</th>\n",
       "    </tr>\n",
       "  </thead>\n",
       "  <tbody>\n",
       "    <tr>\n",
       "      <th>0</th>\n",
       "      <td>289</td>\n",
       "      <td>1.464221e+09</td>\n",
       "      <td>125013</td>\n",
       "      <td>2016-05-26</td>\n",
       "      <td>1.464221e+09</td>\n",
       "      <td>2016-05-26 00:00:18.301000+00:00</td>\n",
       "      <td>10</td>\n",
       "    </tr>\n",
       "    <tr>\n",
       "      <th>1</th>\n",
       "      <td>289</td>\n",
       "      <td>1.464222e+09</td>\n",
       "      <td>64068</td>\n",
       "      <td>2016-05-26</td>\n",
       "      <td>1.464221e+09</td>\n",
       "      <td>2016-05-26 00:14:07.735000+00:00</td>\n",
       "      <td>30</td>\n",
       "    </tr>\n",
       "    <tr>\n",
       "      <th>2</th>\n",
       "      <td>289</td>\n",
       "      <td>1.464222e+09</td>\n",
       "      <td>133346</td>\n",
       "      <td>2016-05-26</td>\n",
       "      <td>1.464221e+09</td>\n",
       "      <td>2016-05-26 00:14:38.934000+00:00</td>\n",
       "      <td>36</td>\n",
       "    </tr>\n",
       "    <tr>\n",
       "      <th>3</th>\n",
       "      <td>289</td>\n",
       "      <td>1.464222e+09</td>\n",
       "      <td>438457</td>\n",
       "      <td>2016-05-26</td>\n",
       "      <td>1.464221e+09</td>\n",
       "      <td>2016-05-26 00:18:34.305000+00:00</td>\n",
       "      <td>6</td>\n",
       "    </tr>\n",
       "    <tr>\n",
       "      <th>4</th>\n",
       "      <td>289</td>\n",
       "      <td>1.464222e+09</td>\n",
       "      <td>198930</td>\n",
       "      <td>2016-05-26</td>\n",
       "      <td>1.464221e+09</td>\n",
       "      <td>2016-05-26 00:18:48.607000+00:00</td>\n",
       "      <td>10</td>\n",
       "    </tr>\n",
       "  </tbody>\n",
       "</table>\n",
       "</div>"
      ],
      "text/plain": [
       "   SessionId          Time  ItemId        Date     Datestamp  \\\n",
       "0        289  1.464221e+09  125013  2016-05-26  1.464221e+09   \n",
       "1        289  1.464222e+09   64068  2016-05-26  1.464221e+09   \n",
       "2        289  1.464222e+09  133346  2016-05-26  1.464221e+09   \n",
       "3        289  1.464222e+09  438457  2016-05-26  1.464221e+09   \n",
       "4        289  1.464222e+09  198930  2016-05-26  1.464221e+09   \n",
       "\n",
       "                              TimeO  ItemSupport  \n",
       "0  2016-05-26 00:00:18.301000+00:00           10  \n",
       "1  2016-05-26 00:14:07.735000+00:00           30  \n",
       "2  2016-05-26 00:14:38.934000+00:00           36  \n",
       "3  2016-05-26 00:18:34.305000+00:00            6  \n",
       "4  2016-05-26 00:18:48.607000+00:00           10  "
      ]
     },
     "metadata": {},
     "output_type": "display_data"
    },
    {
     "data": {
      "text/plain": [
       "(76895, 7)"
      ]
     },
     "metadata": {},
     "output_type": "display_data"
    }
   ],
   "source": [
    "test_data = pd.read_csv(r'data\\retailrocket\\prepared\\train-item-views_test.txt',\n",
    "                    sep='\\t',)\n",
    "\n",
    "display(test_data.head())\n",
    "display(test_data.shape)"
   ]
  },
  {
   "cell_type": "markdown",
   "metadata": {},
   "source": [
    "## data convertion to state, action, reward, next_state, "
   ]
  },
  {
   "cell_type": "code",
   "execution_count": 20,
   "metadata": {},
   "outputs": [
    {
     "name": "stdout",
     "output_type": "stream",
     "text": [
      "Data loaded successfully.\n",
      "Rewards set successfully.\n"
     ]
    },
    {
     "ename": "KeyError",
     "evalue": "'session_id'",
     "output_type": "error",
     "traceback": [
      "\u001b[1;31m---------------------------------------------------------------------------\u001b[0m",
      "\u001b[1;31mKeyError\u001b[0m                                  Traceback (most recent call last)",
      "Cell \u001b[1;32mIn[20], line 6\u001b[0m\n\u001b[0;32m      4\u001b[0m data_converter\u001b[38;5;241m.\u001b[39mload_dataset(train_data)\n\u001b[0;32m      5\u001b[0m data_converter\u001b[38;5;241m.\u001b[39mset_rewards({\u001b[38;5;241m0\u001b[39m: \u001b[38;5;241m5\u001b[39m, \u001b[38;5;241m1\u001b[39m: \u001b[38;5;241m8\u001b[39m, \u001b[38;5;241m2\u001b[39m: \u001b[38;5;241m10\u001b[39m})\n\u001b[1;32m----> 6\u001b[0m \u001b[43mdata_converter\u001b[49m\u001b[38;5;241;43m.\u001b[39;49m\u001b[43mcreate_ssar_tensor_episodes\u001b[49m\u001b[43m(\u001b[49m\u001b[43mn_history\u001b[49m\u001b[43m \u001b[49m\u001b[38;5;241;43m=\u001b[39;49m\u001b[43m \u001b[49m\u001b[43mn_history\u001b[49m\u001b[43m,\u001b[49m\n\u001b[0;32m      7\u001b[0m \u001b[43m                                               \u001b[49m\u001b[43mmode\u001b[49m\u001b[38;5;241;43m=\u001b[39;49m\u001b[38;5;124;43m'\u001b[39;49m\u001b[38;5;124;43mcpu_predicting\u001b[39;49m\u001b[38;5;124;43m'\u001b[39;49m\u001b[43m)\u001b[49m\n",
      "File \u001b[1;32mc:\\Users\\Mees\\Coding Projects\\Master-Thesis-Project---Cold-Start-Recommender-System-Session-based\\src\\recsys_rl.py:57\u001b[0m, in \u001b[0;36mLogToEpisodeConverter.create_ssar_tensor_episodes\u001b[1;34m(self, n_history, mode)\u001b[0m\n\u001b[0;32m     54\u001b[0m device \u001b[38;5;241m=\u001b[39m torch\u001b[38;5;241m.\u001b[39mdevice(\u001b[38;5;124m\"\u001b[39m\u001b[38;5;124mcuda\u001b[39m\u001b[38;5;124m\"\u001b[39m \u001b[38;5;28;01mif\u001b[39;00m torch\u001b[38;5;241m.\u001b[39mcuda\u001b[38;5;241m.\u001b[39mis_available() \u001b[38;5;129;01mand\u001b[39;00m mode \u001b[38;5;241m==\u001b[39m \u001b[38;5;124m'\u001b[39m\u001b[38;5;124mgpu_training\u001b[39m\u001b[38;5;124m'\u001b[39m \u001b[38;5;28;01melse\u001b[39;00m \u001b[38;5;124m\"\u001b[39m\u001b[38;5;124mcpu\u001b[39m\u001b[38;5;124m\"\u001b[39m)\n\u001b[0;32m     56\u001b[0m episodes_list \u001b[38;5;241m=\u001b[39m []\n\u001b[1;32m---> 57\u001b[0m grouped \u001b[38;5;241m=\u001b[39m \u001b[38;5;28;43mself\u001b[39;49m\u001b[38;5;241;43m.\u001b[39;49m\u001b[43mdata\u001b[49m\u001b[38;5;241;43m.\u001b[39;49m\u001b[43mgroupby\u001b[49m\u001b[43m(\u001b[49m\u001b[38;5;124;43m'\u001b[39;49m\u001b[38;5;124;43msession_id\u001b[39;49m\u001b[38;5;124;43m'\u001b[39;49m\u001b[43m)\u001b[49m\n\u001b[0;32m     59\u001b[0m \u001b[38;5;28;01mfor\u001b[39;00m session_id, group \u001b[38;5;129;01min\u001b[39;00m grouped:\n\u001b[0;32m     60\u001b[0m     current_state \u001b[38;5;241m=\u001b[39m [\u001b[38;5;241m0\u001b[39m] \u001b[38;5;241m*\u001b[39m n_history\n",
      "File \u001b[1;32mc:\\Users\\Mees\\anaconda3\\envs\\master_thesis\\lib\\site-packages\\pandas\\core\\frame.py:9183\u001b[0m, in \u001b[0;36mDataFrame.groupby\u001b[1;34m(self, by, axis, level, as_index, sort, group_keys, observed, dropna)\u001b[0m\n\u001b[0;32m   9180\u001b[0m \u001b[38;5;28;01mif\u001b[39;00m level \u001b[38;5;129;01mis\u001b[39;00m \u001b[38;5;28;01mNone\u001b[39;00m \u001b[38;5;129;01mand\u001b[39;00m by \u001b[38;5;129;01mis\u001b[39;00m \u001b[38;5;28;01mNone\u001b[39;00m:\n\u001b[0;32m   9181\u001b[0m     \u001b[38;5;28;01mraise\u001b[39;00m \u001b[38;5;167;01mTypeError\u001b[39;00m(\u001b[38;5;124m\"\u001b[39m\u001b[38;5;124mYou have to supply one of \u001b[39m\u001b[38;5;124m'\u001b[39m\u001b[38;5;124mby\u001b[39m\u001b[38;5;124m'\u001b[39m\u001b[38;5;124m and \u001b[39m\u001b[38;5;124m'\u001b[39m\u001b[38;5;124mlevel\u001b[39m\u001b[38;5;124m'\u001b[39m\u001b[38;5;124m\"\u001b[39m)\n\u001b[1;32m-> 9183\u001b[0m \u001b[38;5;28;01mreturn\u001b[39;00m \u001b[43mDataFrameGroupBy\u001b[49m\u001b[43m(\u001b[49m\n\u001b[0;32m   9184\u001b[0m \u001b[43m    \u001b[49m\u001b[43mobj\u001b[49m\u001b[38;5;241;43m=\u001b[39;49m\u001b[38;5;28;43mself\u001b[39;49m\u001b[43m,\u001b[49m\n\u001b[0;32m   9185\u001b[0m \u001b[43m    \u001b[49m\u001b[43mkeys\u001b[49m\u001b[38;5;241;43m=\u001b[39;49m\u001b[43mby\u001b[49m\u001b[43m,\u001b[49m\n\u001b[0;32m   9186\u001b[0m \u001b[43m    \u001b[49m\u001b[43maxis\u001b[49m\u001b[38;5;241;43m=\u001b[39;49m\u001b[43maxis\u001b[49m\u001b[43m,\u001b[49m\n\u001b[0;32m   9187\u001b[0m \u001b[43m    \u001b[49m\u001b[43mlevel\u001b[49m\u001b[38;5;241;43m=\u001b[39;49m\u001b[43mlevel\u001b[49m\u001b[43m,\u001b[49m\n\u001b[0;32m   9188\u001b[0m \u001b[43m    \u001b[49m\u001b[43mas_index\u001b[49m\u001b[38;5;241;43m=\u001b[39;49m\u001b[43mas_index\u001b[49m\u001b[43m,\u001b[49m\n\u001b[0;32m   9189\u001b[0m \u001b[43m    \u001b[49m\u001b[43msort\u001b[49m\u001b[38;5;241;43m=\u001b[39;49m\u001b[43msort\u001b[49m\u001b[43m,\u001b[49m\n\u001b[0;32m   9190\u001b[0m \u001b[43m    \u001b[49m\u001b[43mgroup_keys\u001b[49m\u001b[38;5;241;43m=\u001b[39;49m\u001b[43mgroup_keys\u001b[49m\u001b[43m,\u001b[49m\n\u001b[0;32m   9191\u001b[0m \u001b[43m    \u001b[49m\u001b[43mobserved\u001b[49m\u001b[38;5;241;43m=\u001b[39;49m\u001b[43mobserved\u001b[49m\u001b[43m,\u001b[49m\n\u001b[0;32m   9192\u001b[0m \u001b[43m    \u001b[49m\u001b[43mdropna\u001b[49m\u001b[38;5;241;43m=\u001b[39;49m\u001b[43mdropna\u001b[49m\u001b[43m,\u001b[49m\n\u001b[0;32m   9193\u001b[0m \u001b[43m\u001b[49m\u001b[43m)\u001b[49m\n",
      "File \u001b[1;32mc:\\Users\\Mees\\anaconda3\\envs\\master_thesis\\lib\\site-packages\\pandas\\core\\groupby\\groupby.py:1329\u001b[0m, in \u001b[0;36mGroupBy.__init__\u001b[1;34m(self, obj, keys, axis, level, grouper, exclusions, selection, as_index, sort, group_keys, observed, dropna)\u001b[0m\n\u001b[0;32m   1326\u001b[0m \u001b[38;5;28mself\u001b[39m\u001b[38;5;241m.\u001b[39mdropna \u001b[38;5;241m=\u001b[39m dropna\n\u001b[0;32m   1328\u001b[0m \u001b[38;5;28;01mif\u001b[39;00m grouper \u001b[38;5;129;01mis\u001b[39;00m \u001b[38;5;28;01mNone\u001b[39;00m:\n\u001b[1;32m-> 1329\u001b[0m     grouper, exclusions, obj \u001b[38;5;241m=\u001b[39m \u001b[43mget_grouper\u001b[49m\u001b[43m(\u001b[49m\n\u001b[0;32m   1330\u001b[0m \u001b[43m        \u001b[49m\u001b[43mobj\u001b[49m\u001b[43m,\u001b[49m\n\u001b[0;32m   1331\u001b[0m \u001b[43m        \u001b[49m\u001b[43mkeys\u001b[49m\u001b[43m,\u001b[49m\n\u001b[0;32m   1332\u001b[0m \u001b[43m        \u001b[49m\u001b[43maxis\u001b[49m\u001b[38;5;241;43m=\u001b[39;49m\u001b[43maxis\u001b[49m\u001b[43m,\u001b[49m\n\u001b[0;32m   1333\u001b[0m \u001b[43m        \u001b[49m\u001b[43mlevel\u001b[49m\u001b[38;5;241;43m=\u001b[39;49m\u001b[43mlevel\u001b[49m\u001b[43m,\u001b[49m\n\u001b[0;32m   1334\u001b[0m \u001b[43m        \u001b[49m\u001b[43msort\u001b[49m\u001b[38;5;241;43m=\u001b[39;49m\u001b[43msort\u001b[49m\u001b[43m,\u001b[49m\n\u001b[0;32m   1335\u001b[0m \u001b[43m        \u001b[49m\u001b[43mobserved\u001b[49m\u001b[38;5;241;43m=\u001b[39;49m\u001b[38;5;28;43;01mFalse\u001b[39;49;00m\u001b[43m \u001b[49m\u001b[38;5;28;43;01mif\u001b[39;49;00m\u001b[43m \u001b[49m\u001b[43mobserved\u001b[49m\u001b[43m \u001b[49m\u001b[38;5;129;43;01mis\u001b[39;49;00m\u001b[43m \u001b[49m\u001b[43mlib\u001b[49m\u001b[38;5;241;43m.\u001b[39;49m\u001b[43mno_default\u001b[49m\u001b[43m \u001b[49m\u001b[38;5;28;43;01melse\u001b[39;49;00m\u001b[43m \u001b[49m\u001b[43mobserved\u001b[49m\u001b[43m,\u001b[49m\n\u001b[0;32m   1336\u001b[0m \u001b[43m        \u001b[49m\u001b[43mdropna\u001b[49m\u001b[38;5;241;43m=\u001b[39;49m\u001b[38;5;28;43mself\u001b[39;49m\u001b[38;5;241;43m.\u001b[39;49m\u001b[43mdropna\u001b[49m\u001b[43m,\u001b[49m\n\u001b[0;32m   1337\u001b[0m \u001b[43m    \u001b[49m\u001b[43m)\u001b[49m\n\u001b[0;32m   1339\u001b[0m \u001b[38;5;28;01mif\u001b[39;00m observed \u001b[38;5;129;01mis\u001b[39;00m lib\u001b[38;5;241m.\u001b[39mno_default:\n\u001b[0;32m   1340\u001b[0m     \u001b[38;5;28;01mif\u001b[39;00m \u001b[38;5;28many\u001b[39m(ping\u001b[38;5;241m.\u001b[39m_passed_categorical \u001b[38;5;28;01mfor\u001b[39;00m ping \u001b[38;5;129;01min\u001b[39;00m grouper\u001b[38;5;241m.\u001b[39mgroupings):\n",
      "File \u001b[1;32mc:\\Users\\Mees\\anaconda3\\envs\\master_thesis\\lib\\site-packages\\pandas\\core\\groupby\\grouper.py:1043\u001b[0m, in \u001b[0;36mget_grouper\u001b[1;34m(obj, key, axis, level, sort, observed, validate, dropna)\u001b[0m\n\u001b[0;32m   1041\u001b[0m         in_axis, level, gpr \u001b[38;5;241m=\u001b[39m \u001b[38;5;28;01mFalse\u001b[39;00m, gpr, \u001b[38;5;28;01mNone\u001b[39;00m\n\u001b[0;32m   1042\u001b[0m     \u001b[38;5;28;01melse\u001b[39;00m:\n\u001b[1;32m-> 1043\u001b[0m         \u001b[38;5;28;01mraise\u001b[39;00m \u001b[38;5;167;01mKeyError\u001b[39;00m(gpr)\n\u001b[0;32m   1044\u001b[0m \u001b[38;5;28;01melif\u001b[39;00m \u001b[38;5;28misinstance\u001b[39m(gpr, Grouper) \u001b[38;5;129;01mand\u001b[39;00m gpr\u001b[38;5;241m.\u001b[39mkey \u001b[38;5;129;01mis\u001b[39;00m \u001b[38;5;129;01mnot\u001b[39;00m \u001b[38;5;28;01mNone\u001b[39;00m:\n\u001b[0;32m   1045\u001b[0m     \u001b[38;5;66;03m# Add key to exclusions\u001b[39;00m\n\u001b[0;32m   1046\u001b[0m     exclusions\u001b[38;5;241m.\u001b[39madd(gpr\u001b[38;5;241m.\u001b[39mkey)\n",
      "\u001b[1;31mKeyError\u001b[0m: 'session_id'"
     ]
    }
   ],
   "source": [
    "data_converter = LogToEpisodeConverter()\n",
    "n_history = 3\n",
    "\n",
    "data_converter.load_dataset(train_data)\n",
    "data_converter.set_rewards({0: 5, 1: 8, 2: 10})\n",
    "data_converter.create_ssar_tensor_episodes(n_history = n_history,\n",
    "                                               mode='cpu_predicting')"
   ]
  },
  {
   "cell_type": "markdown",
   "metadata": {},
   "source": [
    "## load the trained model"
   ]
  },
  {
   "cell_type": "code",
   "execution_count": null,
   "metadata": {},
   "outputs": [],
   "source": [
    "# Load the trained agent\n",
    "state_size = len(data_converter.tensor_episodes[0][0][0])  # Size of the state\n",
    "action_size = max([t[1].item() for traj in data_converter.tensor_episodes for t in traj]) + 1  # Number of actions\n",
    "agent = OfflineDQNAgent(state_size, action_size, mode='cpu_predicting')\n",
    "agent.load_model('trained agents/DQN trained agent 20240530_085334 n_hist1.pth')\n"
   ]
  },
  {
   "cell_type": "markdown",
   "metadata": {},
   "source": [
    "## make predictions"
   ]
  },
  {
   "cell_type": "code",
   "execution_count": null,
   "metadata": {},
   "outputs": [
    {
     "name": "stdout",
     "output_type": "stream",
     "text": [
      "Predicted top 5 actions: [[139659, 50957, 146254, 50419, 236193]]\n"
     ]
    }
   ],
   "source": [
    "# Make predictions\n",
    "sample_states = [\n",
    "    [9297, 281838,  44977]\n",
    "    ] \n",
    "n_predictions = 5  # Number of top actions to predict\n",
    "\n",
    "# Predict top actions\n",
    "predicted_actions = agent.predict(sample_states, n_predictions)\n",
    "\n",
    "# Output the predicted actions\n",
    "print(f\"Predicted top {n_predictions} actions: {predicted_actions}\")"
   ]
  },
  {
   "cell_type": "markdown",
   "metadata": {},
   "source": [
    "# Implementing the agent with session-rec framework"
   ]
  },
  {
   "cell_type": "markdown",
   "metadata": {},
   "source": [
    "idee:\n",
    "\n",
    "def fit() # traint de agent, waardoor ik niet meer los de agent hoef te laden.  \n",
    "def predict_next() # voorspelt volgende item  \n",
    "    output is een lijst met prediction scores voor items ids. niet de lijst met item ids zelf!\n",
    "def predict_next_batch() #geoptimaliseerde predict_next()  (nice to have)"
   ]
  },
  {
   "cell_type": "code",
   "execution_count": null,
   "metadata": {},
   "outputs": [
    {
     "ename": "NameError",
     "evalue": "name 'agent' is not defined",
     "output_type": "error",
     "traceback": [
      "\u001b[1;31m---------------------------------------------------------------------------\u001b[0m",
      "\u001b[1;31mNameError\u001b[0m                                 Traceback (most recent call last)",
      "Cell \u001b[1;32mIn[10], line 1\u001b[0m\n\u001b[1;32m----> 1\u001b[0m predicted_scores \u001b[38;5;241m=\u001b[39m \u001b[43magent\u001b[49m\u001b[38;5;241m.\u001b[39mpredict_scores(states \u001b[38;5;241m=\u001b[39m sample_states,\n\u001b[0;32m      2\u001b[0m                                         predict_for_item_ids \u001b[38;5;241m=\u001b[39m [\u001b[38;5;241m139659\u001b[39m, \u001b[38;5;241m50957\u001b[39m, \u001b[38;5;241m146254\u001b[39m, \u001b[38;5;241m50419\u001b[39m, \u001b[38;5;241m236193\u001b[39m, \u001b[38;5;241m0\u001b[39m])\n\u001b[0;32m      3\u001b[0m \u001b[38;5;28mprint\u001b[39m(\u001b[38;5;124mf\u001b[39m\u001b[38;5;124m'\u001b[39m\u001b[38;5;124mPredicted scores for top 5 actions and sixth itemid 0: \u001b[39m\u001b[38;5;132;01m{\u001b[39;00mpredicted_scores\u001b[38;5;132;01m}\u001b[39;00m\u001b[38;5;124m'\u001b[39m)\n\u001b[0;32m      4\u001b[0m \u001b[38;5;28mprint\u001b[39m(\u001b[38;5;124m'\u001b[39m\u001b[38;5;124mPredicitn 0 has a verry low q value score\u001b[39m\u001b[38;5;124m'\u001b[39m)\n",
      "\u001b[1;31mNameError\u001b[0m: name 'agent' is not defined"
     ]
    }
   ],
   "source": [
    "predicted_scores = agent.predict_scores(states = sample_states,\n",
    "                                        predict_for_item_ids = [139659, 50957, 146254, 50419, 236193, 0])\n",
    "print(f'Predicted scores for top 5 actions and sixth itemid 0: {predicted_scores}')\n",
    "print('Predicitn 0 has a verry low q value score')"
   ]
  },
  {
   "cell_type": "markdown",
   "metadata": {},
   "source": [
    "# Random agent"
   ]
  },
  {
   "cell_type": "code",
   "execution_count": 21,
   "metadata": {},
   "outputs": [
    {
     "name": "stdout",
     "output_type": "stream",
     "text": [
      "~Training model!~\n"
     ]
    }
   ],
   "source": [
    "from src.recsys_dev import RandomPred\n",
    "from src.evaluation import evaluate_sessions, MRR, HitRate\n",
    "model = RandomPred()\n",
    "\n",
    "model.fit(data=train_data)"
   ]
  },
  {
   "cell_type": "code",
   "execution_count": 22,
   "metadata": {},
   "outputs": [
    {
     "name": "stdout",
     "output_type": "stream",
     "text": [
      "START evaluation of  76895  actions in  15969  sessions\n",
      "    eval process:  0  of  76895  actions:  0.0  %\n",
      "    eval process:  1000  of  76895  actions:  1.3004746732557384  %\n",
      "    eval process:  2000  of  76895  actions:  2.600949346511477  %\n",
      "    eval process:  3000  of  76895  actions:  3.901424019767215  %\n",
      "    eval process:  4000  of  76895  actions:  5.201898693022954  %\n",
      "    eval process:  5000  of  76895  actions:  6.502373366278692  %\n",
      "    eval process:  6000  of  76895  actions:  7.80284803953443  %\n",
      "    eval process:  7000  of  76895  actions:  9.103322712790169  %\n",
      "    eval process:  8000  of  76895  actions:  10.403797386045907  %\n",
      "    eval process:  9000  of  76895  actions:  11.704272059301644  %\n",
      "    eval process:  10000  of  76895  actions:  13.004746732557384  %\n",
      "    eval process:  11000  of  76895  actions:  14.305221405813121  %\n",
      "    eval process:  12000  of  76895  actions:  15.60569607906886  %\n",
      "    eval process:  13000  of  76895  actions:  16.9061707523246  %\n",
      "    eval process:  14000  of  76895  actions:  18.206645425580337  %\n",
      "    eval process:  15000  of  76895  actions:  19.507120098836076  %\n",
      "    eval process:  16000  of  76895  actions:  20.807594772091814  %\n",
      "    eval process:  17000  of  76895  actions:  22.108069445347553  %\n",
      "    eval process:  18000  of  76895  actions:  23.408544118603288  %\n",
      "    eval process:  19000  of  76895  actions:  24.709018791859027  %\n",
      "    eval process:  20000  of  76895  actions:  26.00949346511477  %\n",
      "    eval process:  21000  of  76895  actions:  27.309968138370504  %\n",
      "    eval process:  22000  of  76895  actions:  28.610442811626243  %\n",
      "    eval process:  23000  of  76895  actions:  29.91091748488198  %\n",
      "    eval process:  24000  of  76895  actions:  31.21139215813772  %\n",
      "    eval process:  25000  of  76895  actions:  32.51186683139346  %\n",
      "    eval process:  26000  of  76895  actions:  33.8123415046492  %\n",
      "    eval process:  27000  of  76895  actions:  35.11281617790494  %\n",
      "    eval process:  28000  of  76895  actions:  36.413290851160674  %\n",
      "    eval process:  29000  of  76895  actions:  37.71376552441641  %\n",
      "    eval process:  30000  of  76895  actions:  39.01424019767215  %\n",
      "    eval process:  31000  of  76895  actions:  40.31471487092789  %\n",
      "    eval process:  32000  of  76895  actions:  41.61518954418363  %\n",
      "    eval process:  33000  of  76895  actions:  42.915664217439364  %\n",
      "    eval process:  34000  of  76895  actions:  44.216138890695106  %\n",
      "    eval process:  35000  of  76895  actions:  45.51661356395084  %\n",
      "    eval process:  36000  of  76895  actions:  46.817088237206576  %\n",
      "    eval process:  37000  of  76895  actions:  48.11756291046232  %\n",
      "    eval process:  38000  of  76895  actions:  49.41803758371805  %\n",
      "    eval process:  39000  of  76895  actions:  50.71851225697379  %\n",
      "    eval process:  40000  of  76895  actions:  52.01898693022954  %\n",
      "    eval process:  41000  of  76895  actions:  53.31946160348527  %\n",
      "    eval process:  42000  of  76895  actions:  54.61993627674101  %\n",
      "    eval process:  43000  of  76895  actions:  55.92041094999674  %\n",
      "    eval process:  44000  of  76895  actions:  57.220885623252485  %\n",
      "    eval process:  45000  of  76895  actions:  58.52136029650823  %\n",
      "    eval process:  46000  of  76895  actions:  59.82183496976396  %\n",
      "    eval process:  47000  of  76895  actions:  61.122309643019705  %\n",
      "    eval process:  48000  of  76895  actions:  62.42278431627544  %\n",
      "    eval process:  49000  of  76895  actions:  63.72325898953118  %\n",
      "    eval process:  50000  of  76895  actions:  65.02373366278692  %\n",
      "    eval process:  51000  of  76895  actions:  66.32420833604266  %\n",
      "    eval process:  52000  of  76895  actions:  67.6246830092984  %\n",
      "    eval process:  53000  of  76895  actions:  68.92515768255413  %\n",
      "    eval process:  54000  of  76895  actions:  70.22563235580988  %\n",
      "    eval process:  55000  of  76895  actions:  71.52610702906561  %\n",
      "    eval process:  56000  of  76895  actions:  72.82658170232135  %\n",
      "    eval process:  57000  of  76895  actions:  74.12705637557708  %\n",
      "    eval process:  58000  of  76895  actions:  75.42753104883282  %\n",
      "    eval process:  59000  of  76895  actions:  76.72800572208857  %\n",
      "    eval process:  60000  of  76895  actions:  78.0284803953443  %\n",
      "    eval process:  61000  of  76895  actions:  79.32895506860004  %\n",
      "    eval process:  62000  of  76895  actions:  80.62942974185577  %\n",
      "    eval process:  63000  of  76895  actions:  81.92990441511152  %\n",
      "    eval process:  64000  of  76895  actions:  83.23037908836726  %\n",
      "    eval process:  65000  of  76895  actions:  84.53085376162299  %\n",
      "    eval process:  66000  of  76895  actions:  85.83132843487873  %\n",
      "    eval process:  67000  of  76895  actions:  87.13180310813446  %\n",
      "    eval process:  68000  of  76895  actions:  88.43227778139021  %\n",
      "    eval process:  69000  of  76895  actions:  89.73275245464595  %\n",
      "    eval process:  70000  of  76895  actions:  91.03322712790168  %\n",
      "    eval process:  71000  of  76895  actions:  92.33370180115742  %\n",
      "    eval process:  72000  of  76895  actions:  93.63417647441315  %\n",
      "    eval process:  73000  of  76895  actions:  94.9346511476689  %\n",
      "    eval process:  74000  of  76895  actions:  96.23512582092464  %\n",
      "    eval process:  75000  of  76895  actions:  97.53560049418037  %\n",
      "    eval process:  76000  of  76895  actions:  98.8360751674361  %\n",
      "END evaluation\n"
     ]
    },
    {
     "data": {
      "text/plain": [
       "[('MRR@20: ',\n",
       "  7.425086224620127e-05,\n",
       "  'Bin: ;\\nPrecision@20: ;',\n",
       "  'Pos: ;0;1;2;3;4;5;6;7;8;9;10;11;12;13;14;15;16;17;18;19;20;21;22;23;24;25;26;27;28;29;30;31;32;33;34;35;36;37;38;39;\\nPrecision@20: ;3.139763848011077e-05;5.41198235924048e-05;7.543865653592533e-05;0.00012247929254288295;0.0;0.000403248446983038;4.309973278165675e-05;0.00016920473773265651;5.124788602470148e-05;4.8732943469785574e-05;0.0;0.0;0.00011835720203574387;0.0;0.0;0.0;0.0;0.0;0.0;0.0;0.0;0.0;0.0;0.0;0.0;0.0;0.0;0.0;0.0;0.0;0.0;0.0;0.0;0.0;0.0;0.0;0.0;0.0;0.0;0.0;'),\n",
       " ('HitRate@20: ',\n",
       "  0.00039392049371368546,\n",
       "  'Bin: ;\\nHitRate@20: ;',\n",
       "  'Pos: ;0;1;2;3;4;5;6;7;8;9;10;11;12;13;14;15;16;17;18;19;20;21;22;23;24;25;26;27;28;29;30;31;32;33;34;35;36;37;38;39;\\nHitRate@20: ;0.00025048531529839064;0.00034928396786587494;0.0004791566842357451;0.0006522093592043046;0.0;0.0008728542333430317;0.0003878975950349108;0.0005076142131979696;0.0006662225183211193;0.0008771929824561404;0.0;0.0;0.002012072434607646;0.0;0.0;0.0;0.0;0.0;0.0;0.0;0.0;0.0;0.0;0.0;0.0;0.0;0.0;0.0;0.0;0.0;0.0;0.0;0.0;0.0;0.0;0.0;0.0;0.0;0.0;0.0;')]"
      ]
     },
     "execution_count": 22,
     "metadata": {},
     "output_type": "execute_result"
    }
   ],
   "source": [
    "metrics = [MRR(20),\n",
    "           HitRate(20)]\n",
    "\n",
    "evaluate_sessions(pr=model,\n",
    "                  metrics= metrics,\n",
    "                  test_data=test_data,\n",
    "                  train_data=train_data,\n",
    "                  cut_off=20)"
   ]
  }
 ],
 "metadata": {
  "kernelspec": {
   "display_name": "master_thesis",
   "language": "python",
   "name": "python3"
  },
  "language_info": {
   "codemirror_mode": {
    "name": "ipython",
    "version": 3
   },
   "file_extension": ".py",
   "mimetype": "text/x-python",
   "name": "python",
   "nbconvert_exporter": "python",
   "pygments_lexer": "ipython3",
   "version": "3.9.19"
  }
 },
 "nbformat": 4,
 "nbformat_minor": 2
}
