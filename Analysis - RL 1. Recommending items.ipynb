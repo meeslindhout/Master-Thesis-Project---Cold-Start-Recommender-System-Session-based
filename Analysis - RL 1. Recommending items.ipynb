{
 "cells": [
  {
   "cell_type": "markdown",
   "metadata": {},
   "source": [
    "# Making predictions with the trained RL agent"
   ]
  },
  {
   "cell_type": "code",
   "execution_count": 1,
   "metadata": {},
   "outputs": [],
   "source": [
    "import torch\n",
    "import pandas as pd\n",
    "from src.recsys_rl import LogToTrajectoryConverter, OfflineEnv, DQN, OfflineDQNAgent"
   ]
  },
  {
   "cell_type": "code",
   "execution_count": 2,
   "metadata": {},
   "outputs": [
    {
     "data": {
      "text/html": [
       "<div>\n",
       "<style scoped>\n",
       "    .dataframe tbody tr th:only-of-type {\n",
       "        vertical-align: middle;\n",
       "    }\n",
       "\n",
       "    .dataframe tbody tr th {\n",
       "        vertical-align: top;\n",
       "    }\n",
       "\n",
       "    .dataframe thead th {\n",
       "        text-align: right;\n",
       "    }\n",
       "</style>\n",
       "<table border=\"1\" class=\"dataframe\">\n",
       "  <thead>\n",
       "    <tr style=\"text-align: right;\">\n",
       "      <th></th>\n",
       "      <th>timestamp</th>\n",
       "      <th>visitorid</th>\n",
       "      <th>event</th>\n",
       "      <th>itemid</th>\n",
       "      <th>transactionid</th>\n",
       "      <th>new_session_mark</th>\n",
       "      <th>session_id</th>\n",
       "      <th>session_start_time</th>\n",
       "      <th>session_length</th>\n",
       "      <th>gssid</th>\n",
       "    </tr>\n",
       "  </thead>\n",
       "  <tbody>\n",
       "    <tr>\n",
       "      <th>0</th>\n",
       "      <td>2015-09-03 22:01:27.081</td>\n",
       "      <td>1532</td>\n",
       "      <td>0</td>\n",
       "      <td>303715</td>\n",
       "      <td>None</td>\n",
       "      <td>False</td>\n",
       "      <td>2</td>\n",
       "      <td>2015-09-03 22:01:27.081</td>\n",
       "      <td>0 days 00:05:00.350000</td>\n",
       "      <td>0000001532201509032201270300</td>\n",
       "    </tr>\n",
       "    <tr>\n",
       "      <th>1</th>\n",
       "      <td>2015-09-03 22:06:27.431</td>\n",
       "      <td>1532</td>\n",
       "      <td>0</td>\n",
       "      <td>303715</td>\n",
       "      <td>None</td>\n",
       "      <td>True</td>\n",
       "      <td>2</td>\n",
       "      <td>2015-09-03 22:01:27.081</td>\n",
       "      <td>0 days 00:05:00.350000</td>\n",
       "      <td>0000001532201509032206270300</td>\n",
       "    </tr>\n",
       "    <tr>\n",
       "      <th>2</th>\n",
       "      <td>2015-08-31 19:46:03.121</td>\n",
       "      <td>4248</td>\n",
       "      <td>0</td>\n",
       "      <td>281838</td>\n",
       "      <td>None</td>\n",
       "      <td>False</td>\n",
       "      <td>3</td>\n",
       "      <td>2015-08-31 19:46:03.121</td>\n",
       "      <td>0 days 00:01:43.021000</td>\n",
       "      <td>0000004248201508311946030103</td>\n",
       "    </tr>\n",
       "    <tr>\n",
       "      <th>3</th>\n",
       "      <td>2015-08-31 19:47:46.142</td>\n",
       "      <td>4248</td>\n",
       "      <td>0</td>\n",
       "      <td>44977</td>\n",
       "      <td>None</td>\n",
       "      <td>True</td>\n",
       "      <td>3</td>\n",
       "      <td>2015-08-31 19:46:03.121</td>\n",
       "      <td>0 days 00:01:43.021000</td>\n",
       "      <td>0000004248201508311947460103</td>\n",
       "    </tr>\n",
       "    <tr>\n",
       "      <th>4</th>\n",
       "      <td>2015-08-28 15:02:47.606</td>\n",
       "      <td>4531</td>\n",
       "      <td>0</td>\n",
       "      <td>1571</td>\n",
       "      <td>None</td>\n",
       "      <td>False</td>\n",
       "      <td>4</td>\n",
       "      <td>2015-08-28 15:02:47.606</td>\n",
       "      <td>0 days 00:02:01.135000</td>\n",
       "      <td>0000004531201508281502470121</td>\n",
       "    </tr>\n",
       "  </tbody>\n",
       "</table>\n",
       "</div>"
      ],
      "text/plain": [
       "                timestamp  visitorid  event  itemid transactionid  \\\n",
       "0 2015-09-03 22:01:27.081       1532      0  303715          None   \n",
       "1 2015-09-03 22:06:27.431       1532      0  303715          None   \n",
       "2 2015-08-31 19:46:03.121       4248      0  281838          None   \n",
       "3 2015-08-31 19:47:46.142       4248      0   44977          None   \n",
       "4 2015-08-28 15:02:47.606       4531      0    1571          None   \n",
       "\n",
       "   new_session_mark  session_id      session_start_time  \\\n",
       "0             False           2 2015-09-03 22:01:27.081   \n",
       "1              True           2 2015-09-03 22:01:27.081   \n",
       "2             False           3 2015-08-31 19:46:03.121   \n",
       "3              True           3 2015-08-31 19:46:03.121   \n",
       "4             False           4 2015-08-28 15:02:47.606   \n",
       "\n",
       "          session_length                         gssid  \n",
       "0 0 days 00:05:00.350000  0000001532201509032201270300  \n",
       "1 0 days 00:05:00.350000  0000001532201509032206270300  \n",
       "2 0 days 00:01:43.021000  0000004248201508311946030103  \n",
       "3 0 days 00:01:43.021000  0000004248201508311947460103  \n",
       "4 0 days 00:02:01.135000  0000004531201508281502470121  "
      ]
     },
     "execution_count": 2,
     "metadata": {},
     "output_type": "execute_result"
    }
   ],
   "source": [
    "# load temporary data (zodra datapreprocessing class klaar is, kan deze weg)\n",
    "import polars as pl\n",
    "train_data = pl.read_parquet('data/events_sample.parquet').to_pandas()\n",
    "train_data.head()"
   ]
  },
  {
   "cell_type": "code",
   "execution_count": 3,
   "metadata": {},
   "outputs": [
    {
     "name": "stdout",
     "output_type": "stream",
     "text": [
      "Data loaded successfully.\n",
      "Rewards set successfully.\n",
      "Trajectories created successfully.\n"
     ]
    }
   ],
   "source": [
    "data_converter = LogToTrajectoryConverter()\n",
    "n_history = 3\n",
    "\n",
    "data_converter.load_dataset(train_data)\n",
    "data_converter.set_rewards({0: 5, 1: 8, 2: 10})\n",
    "data_converter.create_ssar_tensor_trajectories(n_history = n_history,\n",
    "                                               mode='cpu_predicting')"
   ]
  },
  {
   "cell_type": "code",
   "execution_count": 6,
   "metadata": {},
   "outputs": [
    {
     "data": {
      "text/plain": [
       "[[(tensor([0., 0., 0.]),\n",
       "   tensor(303715),\n",
       "   tensor(5.),\n",
       "   tensor([     0.,      0., 303715.])),\n",
       "  (tensor([     0.,      0., 303715.]),\n",
       "   tensor(303715),\n",
       "   tensor(5.),\n",
       "   tensor([     0., 303715., 303715.]))],\n",
       " [(tensor([0., 0., 0.]),\n",
       "   tensor(281838),\n",
       "   tensor(5.),\n",
       "   tensor([     0.,      0., 281838.])),\n",
       "  (tensor([     0.,      0., 281838.]),\n",
       "   tensor(44977),\n",
       "   tensor(5.),\n",
       "   tensor([     0., 281838.,  44977.]))]]"
      ]
     },
     "execution_count": 6,
     "metadata": {},
     "output_type": "execute_result"
    }
   ],
   "source": [
    "data_converter.tensor_trajectories[:2]"
   ]
  },
  {
   "cell_type": "code",
   "execution_count": 7,
   "metadata": {},
   "outputs": [],
   "source": [
    "# Load the trained agent\n",
    "state_size = len(data_converter.tensor_trajectories[0][0][0])  # Size of the state\n",
    "action_size = max([t[1].item() for traj in data_converter.tensor_trajectories for t in traj]) + 1  # Number of actions\n",
    "agent = OfflineDQNAgent(state_size, action_size, mode='cpu_predicting')\n",
    "agent.load_model('trained agents/DQN trained agent 20240530_085334 n_hist1.pth')\n"
   ]
  },
  {
   "cell_type": "code",
   "execution_count": 15,
   "metadata": {},
   "outputs": [
    {
     "ename": "IndexError",
     "evalue": "Dimension out of range (expected to be in range of [-1, 0], but got 1)",
     "output_type": "error",
     "traceback": [
      "\u001b[1;31m---------------------------------------------------------------------------\u001b[0m",
      "\u001b[1;31mIndexError\u001b[0m                                Traceback (most recent call last)",
      "Cell \u001b[1;32mIn[15], line 9\u001b[0m\n\u001b[0;32m      6\u001b[0m n_predictions \u001b[38;5;241m=\u001b[39m \u001b[38;5;241m1\u001b[39m  \u001b[38;5;66;03m# Number of top actions to predict\u001b[39;00m\n\u001b[0;32m      8\u001b[0m \u001b[38;5;66;03m# Predict top actions\u001b[39;00m\n\u001b[1;32m----> 9\u001b[0m predicted_actions \u001b[38;5;241m=\u001b[39m \u001b[43magent\u001b[49m\u001b[38;5;241;43m.\u001b[39;49m\u001b[43mpredict\u001b[49m\u001b[43m(\u001b[49m\u001b[43msample_state\u001b[49m\u001b[43m,\u001b[49m\u001b[43m \u001b[49m\u001b[43mn_predictions\u001b[49m\u001b[43m)\u001b[49m\n\u001b[0;32m     11\u001b[0m \u001b[38;5;66;03m# Output the predicted actions\u001b[39;00m\n\u001b[0;32m     12\u001b[0m \u001b[38;5;28mprint\u001b[39m(\u001b[38;5;124mf\u001b[39m\u001b[38;5;124m\"\u001b[39m\u001b[38;5;124mPredicted top \u001b[39m\u001b[38;5;132;01m{\u001b[39;00mn_predictions\u001b[38;5;132;01m}\u001b[39;00m\u001b[38;5;124m actions: \u001b[39m\u001b[38;5;132;01m{\u001b[39;00mpredicted_actions\u001b[38;5;132;01m}\u001b[39;00m\u001b[38;5;124m\"\u001b[39m)\n",
      "File \u001b[1;32mc:\\Users\\Mees\\Coding Projects\\Master-Thesis-Project---Cold-Start-Recommender-System-Session-based\\src\\recsys_rl.py:290\u001b[0m, in \u001b[0;36mOfflineDQNAgent.predict\u001b[1;34m(self, states, n_predictions)\u001b[0m\n\u001b[0;32m    288\u001b[0m \u001b[38;5;28;01mwith\u001b[39;00m torch\u001b[38;5;241m.\u001b[39mno_grad():\n\u001b[0;32m    289\u001b[0m     q_values \u001b[38;5;241m=\u001b[39m \u001b[38;5;28mself\u001b[39m\u001b[38;5;241m.\u001b[39mmodel(states_tensor)\n\u001b[1;32m--> 290\u001b[0m top_actions \u001b[38;5;241m=\u001b[39m \u001b[43mtorch\u001b[49m\u001b[38;5;241;43m.\u001b[39;49m\u001b[43mtopk\u001b[49m\u001b[43m(\u001b[49m\u001b[43mq_values\u001b[49m\u001b[43m,\u001b[49m\u001b[43m \u001b[49m\u001b[43mn_predictions\u001b[49m\u001b[43m,\u001b[49m\u001b[43m \u001b[49m\u001b[43mdim\u001b[49m\u001b[38;5;241;43m=\u001b[39;49m\u001b[38;5;241;43m1\u001b[39;49m\u001b[43m)\u001b[49m\u001b[38;5;241m.\u001b[39mindices\n\u001b[0;32m    291\u001b[0m \u001b[38;5;28;01mreturn\u001b[39;00m top_actions\u001b[38;5;241m.\u001b[39mtolist()\n",
      "\u001b[1;31mIndexError\u001b[0m: Dimension out of range (expected to be in range of [-1, 0], but got 1)"
     ]
    }
   ],
   "source": [
    "# Make predictions\n",
    "# Assuming you have a state to predict for:\n",
    "example_states = [[0., 281838.,  44977.],\n",
    "                  [0., 281838.,  44977.],\n",
    "                  [0., 281838.,  44977.]] # Replace with your actual state\n",
    "n_predictions = 1  # Number of top actions to predict\n",
    "\n",
    "# Predict top actions\n",
    "predicted_actions = agent.predict(sample_states, n_predictions)\n",
    "\n",
    "# Output the predicted actions\n",
    "print(f\"Predicted top {n_predictions} actions: {predicted_actions}\")"
   ]
  }
 ],
 "metadata": {
  "kernelspec": {
   "display_name": "master_thesis",
   "language": "python",
   "name": "python3"
  },
  "language_info": {
   "codemirror_mode": {
    "name": "ipython",
    "version": 3
   },
   "file_extension": ".py",
   "mimetype": "text/x-python",
   "name": "python",
   "nbconvert_exporter": "python",
   "pygments_lexer": "ipython3",
   "version": "3.9.19"
  }
 },
 "nbformat": 4,
 "nbformat_minor": 2
}
