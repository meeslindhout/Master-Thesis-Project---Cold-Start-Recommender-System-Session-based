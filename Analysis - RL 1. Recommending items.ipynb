{
 "cells": [
  {
   "cell_type": "markdown",
   "metadata": {},
   "source": [
    "# Making predictions with the trained RL agent"
   ]
  },
  {
   "cell_type": "code",
   "execution_count": 1,
   "metadata": {},
   "outputs": [],
   "source": [
    "import torch\n",
    "import pandas as pd\n",
    "from src.recsys_rl import LogToEpisodeConverter, OfflineEnv, DQN, OfflineDQNAgent"
   ]
  },
  {
   "cell_type": "code",
   "execution_count": 2,
   "metadata": {},
   "outputs": [
    {
     "data": {
      "text/html": [
       "<div>\n",
       "<style scoped>\n",
       "    .dataframe tbody tr th:only-of-type {\n",
       "        vertical-align: middle;\n",
       "    }\n",
       "\n",
       "    .dataframe tbody tr th {\n",
       "        vertical-align: top;\n",
       "    }\n",
       "\n",
       "    .dataframe thead th {\n",
       "        text-align: right;\n",
       "    }\n",
       "</style>\n",
       "<table border=\"1\" class=\"dataframe\">\n",
       "  <thead>\n",
       "    <tr style=\"text-align: right;\">\n",
       "      <th></th>\n",
       "      <th>timestamp</th>\n",
       "      <th>visitorid</th>\n",
       "      <th>event</th>\n",
       "      <th>itemid</th>\n",
       "      <th>transactionid</th>\n",
       "      <th>new_session_mark</th>\n",
       "      <th>session_id</th>\n",
       "      <th>session_start_time</th>\n",
       "      <th>session_length</th>\n",
       "      <th>gssid</th>\n",
       "    </tr>\n",
       "  </thead>\n",
       "  <tbody>\n",
       "    <tr>\n",
       "      <th>0</th>\n",
       "      <td>2015-09-03 22:01:27.081</td>\n",
       "      <td>1532</td>\n",
       "      <td>0</td>\n",
       "      <td>303715</td>\n",
       "      <td>None</td>\n",
       "      <td>False</td>\n",
       "      <td>2</td>\n",
       "      <td>2015-09-03 22:01:27.081</td>\n",
       "      <td>0 days 00:05:00.350000</td>\n",
       "      <td>0000001532201509032201270300</td>\n",
       "    </tr>\n",
       "    <tr>\n",
       "      <th>1</th>\n",
       "      <td>2015-09-03 22:06:27.431</td>\n",
       "      <td>1532</td>\n",
       "      <td>0</td>\n",
       "      <td>303715</td>\n",
       "      <td>None</td>\n",
       "      <td>True</td>\n",
       "      <td>2</td>\n",
       "      <td>2015-09-03 22:01:27.081</td>\n",
       "      <td>0 days 00:05:00.350000</td>\n",
       "      <td>0000001532201509032206270300</td>\n",
       "    </tr>\n",
       "    <tr>\n",
       "      <th>2</th>\n",
       "      <td>2015-08-31 19:46:03.121</td>\n",
       "      <td>4248</td>\n",
       "      <td>0</td>\n",
       "      <td>281838</td>\n",
       "      <td>None</td>\n",
       "      <td>False</td>\n",
       "      <td>3</td>\n",
       "      <td>2015-08-31 19:46:03.121</td>\n",
       "      <td>0 days 00:01:43.021000</td>\n",
       "      <td>0000004248201508311946030103</td>\n",
       "    </tr>\n",
       "    <tr>\n",
       "      <th>3</th>\n",
       "      <td>2015-08-31 19:47:46.142</td>\n",
       "      <td>4248</td>\n",
       "      <td>0</td>\n",
       "      <td>44977</td>\n",
       "      <td>None</td>\n",
       "      <td>True</td>\n",
       "      <td>3</td>\n",
       "      <td>2015-08-31 19:46:03.121</td>\n",
       "      <td>0 days 00:01:43.021000</td>\n",
       "      <td>0000004248201508311947460103</td>\n",
       "    </tr>\n",
       "    <tr>\n",
       "      <th>4</th>\n",
       "      <td>2015-08-28 15:02:47.606</td>\n",
       "      <td>4531</td>\n",
       "      <td>0</td>\n",
       "      <td>1571</td>\n",
       "      <td>None</td>\n",
       "      <td>False</td>\n",
       "      <td>4</td>\n",
       "      <td>2015-08-28 15:02:47.606</td>\n",
       "      <td>0 days 00:02:01.135000</td>\n",
       "      <td>0000004531201508281502470121</td>\n",
       "    </tr>\n",
       "  </tbody>\n",
       "</table>\n",
       "</div>"
      ],
      "text/plain": [
       "                timestamp  visitorid  event  itemid transactionid  \\\n",
       "0 2015-09-03 22:01:27.081       1532      0  303715          None   \n",
       "1 2015-09-03 22:06:27.431       1532      0  303715          None   \n",
       "2 2015-08-31 19:46:03.121       4248      0  281838          None   \n",
       "3 2015-08-31 19:47:46.142       4248      0   44977          None   \n",
       "4 2015-08-28 15:02:47.606       4531      0    1571          None   \n",
       "\n",
       "   new_session_mark  session_id      session_start_time  \\\n",
       "0             False           2 2015-09-03 22:01:27.081   \n",
       "1              True           2 2015-09-03 22:01:27.081   \n",
       "2             False           3 2015-08-31 19:46:03.121   \n",
       "3              True           3 2015-08-31 19:46:03.121   \n",
       "4             False           4 2015-08-28 15:02:47.606   \n",
       "\n",
       "          session_length                         gssid  \n",
       "0 0 days 00:05:00.350000  0000001532201509032201270300  \n",
       "1 0 days 00:05:00.350000  0000001532201509032206270300  \n",
       "2 0 days 00:01:43.021000  0000004248201508311946030103  \n",
       "3 0 days 00:01:43.021000  0000004248201508311947460103  \n",
       "4 0 days 00:02:01.135000  0000004531201508281502470121  "
      ]
     },
     "execution_count": 2,
     "metadata": {},
     "output_type": "execute_result"
    }
   ],
   "source": [
    "# load temporary data (zodra datapreprocessing class klaar is, kan deze weg)\n",
    "import polars as pl\n",
    "train_data = pl.read_parquet('data/events_sample.parquet').to_pandas()\n",
    "train_data.head()"
   ]
  },
  {
   "cell_type": "code",
   "execution_count": 4,
   "metadata": {},
   "outputs": [
    {
     "name": "stdout",
     "output_type": "stream",
     "text": [
      "Data loaded successfully.\n",
      "Rewards set successfully.\n",
      "Episodes created successfully.\n"
     ]
    }
   ],
   "source": [
    "data_converter = LogToEpisodeConverter()\n",
    "n_history = 3\n",
    "\n",
    "data_converter.load_dataset(train_data)\n",
    "data_converter.set_rewards({0: 5, 1: 8, 2: 10})\n",
    "data_converter.create_ssar_tensor_episodes(n_history = n_history,\n",
    "                                               mode='cpu_predicting')"
   ]
  },
  {
   "cell_type": "code",
   "execution_count": 6,
   "metadata": {},
   "outputs": [],
   "source": [
    "# Load the trained agent\n",
    "state_size = len(data_converter.tensor_episodes[0][0][0])  # Size of the state\n",
    "action_size = max([t[1].item() for traj in data_converter.tensor_episodes for t in traj]) + 1  # Number of actions\n",
    "agent = OfflineDQNAgent(state_size, action_size, mode='cpu_predicting')\n",
    "agent.load_model('trained agents/DQN trained agent 20240530_085334 n_hist1.pth')\n"
   ]
  },
  {
   "cell_type": "code",
   "execution_count": 18,
   "metadata": {},
   "outputs": [
    {
     "name": "stdout",
     "output_type": "stream",
     "text": [
      "Predicted top 5 actions: [[168055, 221042, 319895, 175798, 411722], [169029, 267648, 128657, 155628, 329188], [139659, 50957, 50419, 146254, 236193]]\n"
     ]
    }
   ],
   "source": [
    "# Make predictions\n",
    "sample_states = [\n",
    "    [0, 0, 0],\n",
    "    [0, 0, 303715],\n",
    "    [0, 281838,  44977]] \n",
    "n_predictions = 5  # Number of top actions to predict\n",
    "\n",
    "# Predict top actions\n",
    "predicted_actions = agent.predict(sample_states, n_predictions)\n",
    "\n",
    "# Output the predicted actions\n",
    "print(f\"Predicted top {n_predictions} actions: {predicted_actions}\")"
   ]
  }
 ],
 "metadata": {
  "kernelspec": {
   "display_name": "master_thesis",
   "language": "python",
   "name": "python3"
  },
  "language_info": {
   "codemirror_mode": {
    "name": "ipython",
    "version": 3
   },
   "file_extension": ".py",
   "mimetype": "text/x-python",
   "name": "python",
   "nbconvert_exporter": "python",
   "pygments_lexer": "ipython3",
   "version": "3.9.19"
  }
 },
 "nbformat": 4,
 "nbformat_minor": 2
}
