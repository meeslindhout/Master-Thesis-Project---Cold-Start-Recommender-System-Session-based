{
 "cells": [
  {
   "cell_type": "code",
   "execution_count": null,
   "metadata": {},
   "outputs": [],
   "source": [
    "# run following commands when this script is executed in google colab\n",
    "# takes care of cloning the repository and changing the working directory to the repository so objects can be imported from src folder in the repository.\n",
    "!git clone https://github.com/meeslindhout/Master-Thesis-Project---Cold-Start-Recommender-System-Session-based.git\n",
    "import os\n",
    "os.chdir('Master-Thesis-Project---Cold-Start-Recommender-System-Session-based')"
   ]
  },
  {
   "cell_type": "markdown",
   "metadata": {},
   "source": [
    "# Item knn sesion based recommendation\n",
    "This is the base model that will be used to compare the RL model with."
   ]
  },
  {
   "cell_type": "code",
   "execution_count": null,
   "metadata": {},
   "outputs": [],
   "source": [
    "import pandas as pd\n",
    "from recsys_baseline import ContextKNN\n",
    "from utils import ensure_dir, save_model, write_results_csv, eval_algorithm"
   ]
  },
  {
   "cell_type": "code",
   "execution_count": null,
   "metadata": {},
   "outputs": [],
   "source": []
  }
 ],
 "metadata": {
  "kernelspec": {
   "display_name": "master_thesis",
   "language": "python",
   "name": "python3"
  },
  "language_info": {
   "name": "python",
   "version": "3.9.19"
  }
 },
 "nbformat": 4,
 "nbformat_minor": 2
}
