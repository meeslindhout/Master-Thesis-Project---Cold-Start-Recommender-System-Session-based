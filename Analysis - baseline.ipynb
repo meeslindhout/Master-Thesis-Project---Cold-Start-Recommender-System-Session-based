{
 "cells": [
  {
   "cell_type": "code",
   "execution_count": 16,
   "metadata": {},
   "outputs": [],
   "source": [
    "import pandas as pd\n",
    "from src.recsys_baseline import VSKNN_STAN\n",
    "from src.evaluation import evaluate_sessions, MRR, HitRate"
   ]
  },
  {
   "cell_type": "markdown",
   "metadata": {},
   "source": [
    "# Item knn sesion based recommendation\n",
    "This is the base model that will be used to compare the RL model with."
   ]
  },
  {
   "cell_type": "code",
   "execution_count": 17,
   "metadata": {},
   "outputs": [
    {
     "data": {
      "text/html": [
       "<div>\n",
       "<style scoped>\n",
       "    .dataframe tbody tr th:only-of-type {\n",
       "        vertical-align: middle;\n",
       "    }\n",
       "\n",
       "    .dataframe tbody tr th {\n",
       "        vertical-align: top;\n",
       "    }\n",
       "\n",
       "    .dataframe thead th {\n",
       "        text-align: right;\n",
       "    }\n",
       "</style>\n",
       "<table border=\"1\" class=\"dataframe\">\n",
       "  <thead>\n",
       "    <tr style=\"text-align: right;\">\n",
       "      <th></th>\n",
       "      <th>SessionId</th>\n",
       "      <th>Time</th>\n",
       "      <th>ItemId</th>\n",
       "      <th>Date</th>\n",
       "      <th>Datestamp</th>\n",
       "      <th>TimeO</th>\n",
       "      <th>ItemSupport</th>\n",
       "    </tr>\n",
       "  </thead>\n",
       "  <tbody>\n",
       "    <tr>\n",
       "      <th>0</th>\n",
       "      <td>1</td>\n",
       "      <td>1.462752e+09</td>\n",
       "      <td>9654</td>\n",
       "      <td>2016-05-09</td>\n",
       "      <td>1.462752e+09</td>\n",
       "      <td>2016-05-09 00:01:15.848000+00:00</td>\n",
       "      <td>399</td>\n",
       "    </tr>\n",
       "    <tr>\n",
       "      <th>1</th>\n",
       "      <td>1</td>\n",
       "      <td>1.462752e+09</td>\n",
       "      <td>33043</td>\n",
       "      <td>2016-05-09</td>\n",
       "      <td>1.462752e+09</td>\n",
       "      <td>2016-05-09 00:02:53.912000+00:00</td>\n",
       "      <td>195</td>\n",
       "    </tr>\n",
       "    <tr>\n",
       "      <th>2</th>\n",
       "      <td>1</td>\n",
       "      <td>1.462752e+09</td>\n",
       "      <td>32118</td>\n",
       "      <td>2016-05-09</td>\n",
       "      <td>1.462752e+09</td>\n",
       "      <td>2016-05-09 00:04:03.569000+00:00</td>\n",
       "      <td>67</td>\n",
       "    </tr>\n",
       "    <tr>\n",
       "      <th>3</th>\n",
       "      <td>1</td>\n",
       "      <td>1.462752e+09</td>\n",
       "      <td>12352</td>\n",
       "      <td>2016-05-09</td>\n",
       "      <td>1.462752e+09</td>\n",
       "      <td>2016-05-09 00:05:29.870000+00:00</td>\n",
       "      <td>327</td>\n",
       "    </tr>\n",
       "    <tr>\n",
       "      <th>4</th>\n",
       "      <td>1</td>\n",
       "      <td>1.462752e+09</td>\n",
       "      <td>35077</td>\n",
       "      <td>2016-05-09</td>\n",
       "      <td>1.462752e+09</td>\n",
       "      <td>2016-05-09 00:06:30.072000+00:00</td>\n",
       "      <td>102</td>\n",
       "    </tr>\n",
       "  </tbody>\n",
       "</table>\n",
       "</div>"
      ],
      "text/plain": [
       "   SessionId          Time  ItemId        Date     Datestamp  \\\n",
       "0          1  1.462752e+09    9654  2016-05-09  1.462752e+09   \n",
       "1          1  1.462752e+09   33043  2016-05-09  1.462752e+09   \n",
       "2          1  1.462752e+09   32118  2016-05-09  1.462752e+09   \n",
       "3          1  1.462752e+09   12352  2016-05-09  1.462752e+09   \n",
       "4          1  1.462752e+09   35077  2016-05-09  1.462752e+09   \n",
       "\n",
       "                              TimeO  ItemSupport  \n",
       "0  2016-05-09 00:01:15.848000+00:00          399  \n",
       "1  2016-05-09 00:02:53.912000+00:00          195  \n",
       "2  2016-05-09 00:04:03.569000+00:00           67  \n",
       "3  2016-05-09 00:05:29.870000+00:00          327  \n",
       "4  2016-05-09 00:06:30.072000+00:00          102  "
      ]
     },
     "metadata": {},
     "output_type": "display_data"
    },
    {
     "data": {
      "text/plain": [
       "(859459, 7)"
      ]
     },
     "metadata": {},
     "output_type": "display_data"
    }
   ],
   "source": [
    "train_data = pd.read_csv(r'data\\retailrocket\\prepared\\train-item-views_train_tr.txt',\n",
    "                    sep='\\t',)\n",
    "display(train_data.head())\n",
    "display(train_data.shape)\n"
   ]
  },
  {
   "cell_type": "code",
   "execution_count": 18,
   "metadata": {},
   "outputs": [
    {
     "data": {
      "text/html": [
       "<div>\n",
       "<style scoped>\n",
       "    .dataframe tbody tr th:only-of-type {\n",
       "        vertical-align: middle;\n",
       "    }\n",
       "\n",
       "    .dataframe tbody tr th {\n",
       "        vertical-align: top;\n",
       "    }\n",
       "\n",
       "    .dataframe thead th {\n",
       "        text-align: right;\n",
       "    }\n",
       "</style>\n",
       "<table border=\"1\" class=\"dataframe\">\n",
       "  <thead>\n",
       "    <tr style=\"text-align: right;\">\n",
       "      <th></th>\n",
       "      <th>SessionId</th>\n",
       "      <th>Time</th>\n",
       "      <th>ItemId</th>\n",
       "      <th>Date</th>\n",
       "      <th>Datestamp</th>\n",
       "      <th>TimeO</th>\n",
       "      <th>ItemSupport</th>\n",
       "    </tr>\n",
       "  </thead>\n",
       "  <tbody>\n",
       "    <tr>\n",
       "      <th>0</th>\n",
       "      <td>289</td>\n",
       "      <td>1.464221e+09</td>\n",
       "      <td>125013</td>\n",
       "      <td>2016-05-26</td>\n",
       "      <td>1.464221e+09</td>\n",
       "      <td>2016-05-26 00:00:18.301000+00:00</td>\n",
       "      <td>10</td>\n",
       "    </tr>\n",
       "    <tr>\n",
       "      <th>1</th>\n",
       "      <td>289</td>\n",
       "      <td>1.464222e+09</td>\n",
       "      <td>64068</td>\n",
       "      <td>2016-05-26</td>\n",
       "      <td>1.464221e+09</td>\n",
       "      <td>2016-05-26 00:14:07.735000+00:00</td>\n",
       "      <td>30</td>\n",
       "    </tr>\n",
       "    <tr>\n",
       "      <th>2</th>\n",
       "      <td>289</td>\n",
       "      <td>1.464222e+09</td>\n",
       "      <td>133346</td>\n",
       "      <td>2016-05-26</td>\n",
       "      <td>1.464221e+09</td>\n",
       "      <td>2016-05-26 00:14:38.934000+00:00</td>\n",
       "      <td>36</td>\n",
       "    </tr>\n",
       "    <tr>\n",
       "      <th>3</th>\n",
       "      <td>289</td>\n",
       "      <td>1.464222e+09</td>\n",
       "      <td>438457</td>\n",
       "      <td>2016-05-26</td>\n",
       "      <td>1.464221e+09</td>\n",
       "      <td>2016-05-26 00:18:34.305000+00:00</td>\n",
       "      <td>6</td>\n",
       "    </tr>\n",
       "    <tr>\n",
       "      <th>4</th>\n",
       "      <td>289</td>\n",
       "      <td>1.464222e+09</td>\n",
       "      <td>198930</td>\n",
       "      <td>2016-05-26</td>\n",
       "      <td>1.464221e+09</td>\n",
       "      <td>2016-05-26 00:18:48.607000+00:00</td>\n",
       "      <td>10</td>\n",
       "    </tr>\n",
       "  </tbody>\n",
       "</table>\n",
       "</div>"
      ],
      "text/plain": [
       "   SessionId          Time  ItemId        Date     Datestamp  \\\n",
       "0        289  1.464221e+09  125013  2016-05-26  1.464221e+09   \n",
       "1        289  1.464222e+09   64068  2016-05-26  1.464221e+09   \n",
       "2        289  1.464222e+09  133346  2016-05-26  1.464221e+09   \n",
       "3        289  1.464222e+09  438457  2016-05-26  1.464221e+09   \n",
       "4        289  1.464222e+09  198930  2016-05-26  1.464221e+09   \n",
       "\n",
       "                              TimeO  ItemSupport  \n",
       "0  2016-05-26 00:00:18.301000+00:00           10  \n",
       "1  2016-05-26 00:14:07.735000+00:00           30  \n",
       "2  2016-05-26 00:14:38.934000+00:00           36  \n",
       "3  2016-05-26 00:18:34.305000+00:00            6  \n",
       "4  2016-05-26 00:18:48.607000+00:00           10  "
      ]
     },
     "metadata": {},
     "output_type": "display_data"
    },
    {
     "data": {
      "text/plain": [
       "(76895, 7)"
      ]
     },
     "metadata": {},
     "output_type": "display_data"
    }
   ],
   "source": [
    "test_data = pd.read_csv(r'data\\retailrocket\\prepared\\train-item-views_test.txt',\n",
    "                    sep='\\t',)\n",
    "\n",
    "display(test_data.head())\n",
    "display(test_data.shape)\n"
   ]
  },
  {
   "cell_type": "markdown",
   "metadata": {},
   "source": [
    "# Initialise the model (`VSKNN_STAN`)\n",
    "Model parameters are based on research of [S. Latifi, N. Mauro and D. Jannach. 2021. Session-aware recommendation: a surprising quest for the state-of-the-art. Information Sciences](https://doi.org/10.1016/j.ins.2021.05.048) \n",
    "\n",
    "* Optimised parameters for Retail Rocket dataset: [config](https://github.com/rn5l/session-rec/blob/5dcd583cbd8d44703a5248b9a308945f24b91390/conf/save/retailrocket/session_based/window/window_retailr_vstan.yml)  \n",
    "    k: 500  \n",
    "    sample_size: 1000  \n",
    "    similarity: 'cosine'  \n",
    "    stan:  \n",
    "    lambda_spw: 7.24  \n",
    "    lambda_snh: 100  \n",
    "    lambda_inh: 3.62  \n",
    "    vsknn:  \n",
    "    lambda_ipw: 3.62  \n",
    "    lambda_idf: 1  \n",
    "\n",
    "* Optimised parameters for Diginetica dataset: [config](https://github.com/rn5l/session-rec/blob/5dcd583cbd8d44703a5248b9a308945f24b91390/conf/save/diginetica/window/window_multiple_digi_vstan.yml)  \n",
    "    k: 100  \n",
    "    sample_size: 1000  \n",
    "    similarity: 'vec'  \n",
    "    stan:  \n",
    "    lambda_spw: 4.9  \n",
    "    lambda_snh: 80  \n",
    "    lambda_inh: 9.8  \n",
    "    vsknn:  \n",
    "    lambda_ipw: 4.9  \n",
    "    lambda_idf: 5  \n",
    "\n"
   ]
  },
  {
   "cell_type": "markdown",
   "metadata": {},
   "source": [
    "## Retail Rocket"
   ]
  },
  {
   "cell_type": "code",
   "execution_count": 19,
   "metadata": {},
   "outputs": [],
   "source": [
    "model_Ret = VSKNN_STAN(k=500,\n",
    "                       sample_size=1000,\n",
    "                       similarity='cosine',  \n",
    "                       #stan:  \n",
    "                       lambda_spw=7.24,  \n",
    "                       lambda_snh=100,  \n",
    "                       lambda_inh=3.62,  \n",
    "                       #vsknn:  \n",
    "                       lambda_ipw=3.62, \n",
    "                       lambda_idf=1\n",
    "                       )"
   ]
  },
  {
   "cell_type": "code",
   "execution_count": 20,
   "metadata": {},
   "outputs": [],
   "source": [
    "model_Ret.fit(train=train_data, test=test_data)"
   ]
  },
  {
   "cell_type": "code",
   "execution_count": 21,
   "metadata": {},
   "outputs": [
    {
     "name": "stdout",
     "output_type": "stream",
     "text": [
      "9654      0.0\n",
      "33043     0.0\n",
      "32118     0.0\n",
      "12352     0.0\n",
      "35077     0.0\n",
      "         ... \n",
      "258318    0.0\n",
      "175457    0.0\n",
      "416695    0.0\n",
      "381794    0.0\n",
      "73017     0.0\n",
      "Length: 43023, dtype: float64\n",
      "List with prediction scores, (probabilities)\n"
     ]
    }
   ],
   "source": [
    "predictions = model_Ret.predict_next(session_id=289, \n",
    "                                     input_item_id=133346,\n",
    "                                     predict_for_item_ids=train_data['ItemId'].unique())\n",
    "print(predictions)\n",
    "print(f'List with prediction scores, (probabilities)')"
   ]
  },
  {
   "cell_type": "code",
   "execution_count": 22,
   "metadata": {},
   "outputs": [
    {
     "name": "stdout",
     "output_type": "stream",
     "text": [
      "START evaluation of  76895  actions in  15969  sessions\n",
      "    eval process:  0  of  76895  actions:  0.0  %\n",
      "    eval process:  1000  of  76895  actions:  1.3004746732557384  %\n",
      "    eval process:  2000  of  76895  actions:  2.600949346511477  %\n"
     ]
    },
    {
     "ename": "KeyboardInterrupt",
     "evalue": "",
     "output_type": "error",
     "traceback": [
      "\u001b[1;31m---------------------------------------------------------------------------\u001b[0m",
      "\u001b[1;31mKeyboardInterrupt\u001b[0m                         Traceback (most recent call last)",
      "Cell \u001b[1;32mIn[22], line 4\u001b[0m\n\u001b[0;32m      1\u001b[0m metrics \u001b[38;5;241m=\u001b[39m [MRR(\u001b[38;5;241m20\u001b[39m),\n\u001b[0;32m      2\u001b[0m            HitRate(\u001b[38;5;241m20\u001b[39m)]\n\u001b[1;32m----> 4\u001b[0m \u001b[43mevaluate_sessions\u001b[49m\u001b[43m(\u001b[49m\u001b[43mpr\u001b[49m\u001b[38;5;241;43m=\u001b[39;49m\u001b[43mmodel_Ret\u001b[49m\u001b[43m,\u001b[49m\n\u001b[0;32m      5\u001b[0m \u001b[43m                  \u001b[49m\u001b[43mmetrics\u001b[49m\u001b[38;5;241;43m=\u001b[39;49m\u001b[43m \u001b[49m\u001b[43mmetrics\u001b[49m\u001b[43m,\u001b[49m\n\u001b[0;32m      6\u001b[0m \u001b[43m                  \u001b[49m\u001b[43mtest_data\u001b[49m\u001b[38;5;241;43m=\u001b[39;49m\u001b[43mtest_data\u001b[49m\u001b[43m,\u001b[49m\n\u001b[0;32m      7\u001b[0m \u001b[43m                  \u001b[49m\u001b[43mtrain_data\u001b[49m\u001b[38;5;241;43m=\u001b[39;49m\u001b[43mtrain_data\u001b[49m\u001b[43m,\u001b[49m\n\u001b[0;32m      8\u001b[0m \u001b[43m                  \u001b[49m\u001b[43mcut_off\u001b[49m\u001b[38;5;241;43m=\u001b[39;49m\u001b[38;5;241;43m20\u001b[39;49m\u001b[43m)\u001b[49m\n",
      "File \u001b[1;32mc:\\Users\\Mees\\Coding Projects\\Master-Thesis-Project---Cold-Start-Recommender-System-Session-based\\src\\evaluation.py:75\u001b[0m, in \u001b[0;36mevaluate_sessions\u001b[1;34m(pr, metrics, test_data, train_data, items, cut_off, session_key, item_key, time_key)\u001b[0m\n\u001b[0;32m     72\u001b[0m ts \u001b[38;5;241m=\u001b[39m test_data[time_key]\u001b[38;5;241m.\u001b[39mvalues[i]\n\u001b[0;32m     74\u001b[0m \u001b[38;5;66;03m# Check if the session ID has changed\u001b[39;00m\n\u001b[1;32m---> 75\u001b[0m \u001b[38;5;28;01mif\u001b[39;00m prev_sid \u001b[38;5;241m!=\u001b[39m sid:\n\u001b[0;32m     76\u001b[0m     prev_sid \u001b[38;5;241m=\u001b[39m sid\n\u001b[0;32m     77\u001b[0m     pos \u001b[38;5;241m=\u001b[39m \u001b[38;5;241m0\u001b[39m\n",
      "File \u001b[1;32mc:\\Users\\Mees\\Coding Projects\\Master-Thesis-Project---Cold-Start-Recommender-System-Session-based\\src\\recsys_baseline.py:191\u001b[0m, in \u001b[0;36mVSKNN_STAN.predict_next\u001b[1;34m(self, session_id, input_item_id, predict_for_item_ids, input_user_id, timestamp, skip, type)\u001b[0m\n\u001b[0;32m    188\u001b[0m scores \u001b[38;5;241m=\u001b[39m \u001b[38;5;28mself\u001b[39m\u001b[38;5;241m.\u001b[39mscore_items( neighbors, \u001b[38;5;28mself\u001b[39m\u001b[38;5;241m.\u001b[39msession_items, timestamp )\n\u001b[0;32m    190\u001b[0m \u001b[38;5;66;03m# Create things in the format ..\u001b[39;00m\n\u001b[1;32m--> 191\u001b[0m predictions \u001b[38;5;241m=\u001b[39m \u001b[43mnp\u001b[49m\u001b[38;5;241;43m.\u001b[39;49m\u001b[43mzeros\u001b[49m\u001b[43m(\u001b[49m\u001b[38;5;28;43mlen\u001b[39;49m\u001b[43m(\u001b[49m\u001b[43mpredict_for_item_ids\u001b[49m\u001b[43m)\u001b[49m\u001b[43m)\u001b[49m\n\u001b[0;32m    192\u001b[0m mask \u001b[38;5;241m=\u001b[39m np\u001b[38;5;241m.\u001b[39min1d( predict_for_item_ids, \u001b[38;5;28mlist\u001b[39m(scores\u001b[38;5;241m.\u001b[39mkeys()) )\n\u001b[0;32m    194\u001b[0m items \u001b[38;5;241m=\u001b[39m predict_for_item_ids[mask]\n",
      "\u001b[1;31mKeyboardInterrupt\u001b[0m: "
     ]
    }
   ],
   "source": [
    "metrics = [MRR(20),\n",
    "           HitRate(20)]\n",
    "\n",
    "evaluate_sessions(pr=model_Ret,\n",
    "                  metrics= metrics,\n",
    "                  test_data=test_data,\n",
    "                  train_data=train_data,\n",
    "                  cut_off=20)"
   ]
  },
  {
   "cell_type": "code",
   "execution_count": 9,
   "metadata": {},
   "outputs": [
    {
     "name": "stdout",
     "output_type": "stream",
     "text": [
      "[('MRR@20: ', 0.18372355549278785, 'Bin: ;\\nPrecision@20: ;', 'Pos: ;0;1;2;3;4;5;6;7;8;9;10;11;12;13;14;15;16;17;18;19;20;21;22;23;24;25;26;27;28;29;30;31;32;33;34;35;36;37;38;39;\\nPrecision@20: ;0.1923429731707262;0.2130989751510292;0.18494087024707742;0.17348302115182757;0.17469568653083595;0.16558751112390638;0.160819786134727;0.15158782965596843;0.1598319946330456;0.14795290669414837;0.16483622190962532;0.15703123369639385;0.1575727141065769;0.15267422600506575;0.15321847675160974;0.15358743696471566;0.13086965926122007;0.14231122064023527;0.1531287431342716;0.10542372375431582;0.130395174042715;0.14180672268907565;0.11122303622303623;0.054672943988201335;0.18073870573870573;0.12518037518037517;0.12446189001916556;0.10142390289449113;0.14041783380018671;0.07324374971433795;0.017361111111111112;0.0755952380952381;0.027551020408163263;0.36666666666666664;0.265625;0.25;0.5;0.3333333333333333;0.16666666666666666;0.05;'), ('HitRate@20: ', 0.5135246036175032, 'Bin: ;\\nHitRate@20: ;', 'Pos: ;0;1;2;3;4;5;6;7;8;9;10;11;12;13;14;15;16;17;18;19;20;21;22;23;24;25;26;27;28;29;30;31;32;33;34;35;36;37;38;39;\\nHitRate@20: ;0.48994927672365207;0.5400803353126091;0.5325826545280307;0.5162237078102071;0.5213065109236427;0.5196392202502182;0.5205585725368502;0.49898477157360405;0.5109926715522984;0.48596491228070177;0.5034883720930232;0.49922958397534667;0.4909456740442656;0.4961439588688946;0.5096153846153846;0.5020746887966805;0.43103448275862066;0.4057971014492754;0.4857142857142857;0.4625;0.4426229508196721;0.30434782608695654;0.41025641025641024;0.34375;0.38461538461538464;0.3181818181818182;0.47368421052631576;0.5;0.5;0.5454545454545454;0.2;0.375;0.2857142857142857;0.6;0.5;0.25;0.6666666666666666;0.3333333333333333;0.5;0.5;')]\n"
     ]
    }
   ],
   "source": [
    "results = [('MRR@20: ',\n",
    "  0.18372355549278785,\n",
    "  'Bin: ;\\nPrecision@20: ;',\n",
    "  'Pos: ;0;1;2;3;4;5;6;7;8;9;10;11;12;13;14;15;16;17;18;19;20;21;22;23;24;25;26;27;28;29;30;31;32;33;34;35;36;37;38;39;\\nPrecision@20: ;0.1923429731707262;0.2130989751510292;0.18494087024707742;0.17348302115182757;0.17469568653083595;0.16558751112390638;0.160819786134727;0.15158782965596843;0.1598319946330456;0.14795290669414837;0.16483622190962532;0.15703123369639385;0.1575727141065769;0.15267422600506575;0.15321847675160974;0.15358743696471566;0.13086965926122007;0.14231122064023527;0.1531287431342716;0.10542372375431582;0.130395174042715;0.14180672268907565;0.11122303622303623;0.054672943988201335;0.18073870573870573;0.12518037518037517;0.12446189001916556;0.10142390289449113;0.14041783380018671;0.07324374971433795;0.017361111111111112;0.0755952380952381;0.027551020408163263;0.36666666666666664;0.265625;0.25;0.5;0.3333333333333333;0.16666666666666666;0.05;'),\n",
    " ('HitRate@20: ',\n",
    "  0.5135246036175032,\n",
    "  'Bin: ;\\nHitRate@20: ;',\n",
    "  'Pos: ;0;1;2;3;4;5;6;7;8;9;10;11;12;13;14;15;16;17;18;19;20;21;22;23;24;25;26;27;28;29;30;31;32;33;34;35;36;37;38;39;\\nHitRate@20: ;0.48994927672365207;0.5400803353126091;0.5325826545280307;0.5162237078102071;0.5213065109236427;0.5196392202502182;0.5205585725368502;0.49898477157360405;0.5109926715522984;0.48596491228070177;0.5034883720930232;0.49922958397534667;0.4909456740442656;0.4961439588688946;0.5096153846153846;0.5020746887966805;0.43103448275862066;0.4057971014492754;0.4857142857142857;0.4625;0.4426229508196721;0.30434782608695654;0.41025641025641024;0.34375;0.38461538461538464;0.3181818181818182;0.47368421052631576;0.5;0.5;0.5454545454545454;0.2;0.375;0.2857142857142857;0.6;0.5;0.25;0.6666666666666666;0.3333333333333333;0.5;0.5;')]\n",
    "\n",
    "print(results)"
   ]
  },
  {
   "cell_type": "code",
   "execution_count": 12,
   "metadata": {},
   "outputs": [
    {
     "data": {
      "text/plain": [
       "('MRR@20: ',\n",
       " 0.18372355549278785,\n",
       " 'Bin: ;\\nPrecision@20: ;',\n",
       " 'Pos: ;0;1;2;3;4;5;6;7;8;9;10;11;12;13;14;15;16;17;18;19;20;21;22;23;24;25;26;27;28;29;30;31;32;33;34;35;36;37;38;39;\\nPrecision@20: ;0.1923429731707262;0.2130989751510292;0.18494087024707742;0.17348302115182757;0.17469568653083595;0.16558751112390638;0.160819786134727;0.15158782965596843;0.1598319946330456;0.14795290669414837;0.16483622190962532;0.15703123369639385;0.1575727141065769;0.15267422600506575;0.15321847675160974;0.15358743696471566;0.13086965926122007;0.14231122064023527;0.1531287431342716;0.10542372375431582;0.130395174042715;0.14180672268907565;0.11122303622303623;0.054672943988201335;0.18073870573870573;0.12518037518037517;0.12446189001916556;0.10142390289449113;0.14041783380018671;0.07324374971433795;0.017361111111111112;0.0755952380952381;0.027551020408163263;0.36666666666666664;0.265625;0.25;0.5;0.3333333333333333;0.16666666666666666;0.05;')"
      ]
     },
     "execution_count": 12,
     "metadata": {},
     "output_type": "execute_result"
    }
   ],
   "source": [
    "results[0]"
   ]
  },
  {
   "cell_type": "markdown",
   "metadata": {},
   "source": [
    "## Diginetica"
   ]
  },
  {
   "cell_type": "code",
   "execution_count": 7,
   "metadata": {},
   "outputs": [],
   "source": [
    "# initialise parameters for Diginetica dataset as mentioned before\n",
    "model_Dig = VSKNN_STAN(k=100,\n",
    "                       sample_size=1000,\n",
    "                       similarity='vec',\n",
    "                    #    stan:  \n",
    "                       lambda_spw=4.9,  \n",
    "                       lambda_snh=80,  \n",
    "                       lambda_inh=9.8,  \n",
    "                    #    vsknn:  \n",
    "                       lambda_ipw=4.9, \n",
    "                       lambda_idf=5\n",
    "                       )"
   ]
  }
 ],
 "metadata": {
  "kernelspec": {
   "display_name": "master_thesis",
   "language": "python",
   "name": "python3"
  },
  "language_info": {
   "codemirror_mode": {
    "name": "ipython",
    "version": 3
   },
   "file_extension": ".py",
   "mimetype": "text/x-python",
   "name": "python",
   "nbconvert_exporter": "python",
   "pygments_lexer": "ipython3",
   "version": "3.9.19"
  }
 },
 "nbformat": 4,
 "nbformat_minor": 2
}
