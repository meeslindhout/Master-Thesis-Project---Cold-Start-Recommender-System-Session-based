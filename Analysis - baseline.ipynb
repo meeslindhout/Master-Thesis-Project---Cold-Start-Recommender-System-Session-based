{
 "cells": [
  {
   "cell_type": "code",
   "execution_count": 1,
   "metadata": {},
   "outputs": [],
   "source": [
    "import pandas as pd\n",
    "from src.recsys_baseline import VSKNN_STAN\n",
    "from src.evaluation import evaluate_sessions, MRR, HitRate"
   ]
  },
  {
   "cell_type": "markdown",
   "metadata": {},
   "source": [
    "# Item knn sesion based recommendation\n",
    "This is the base model that will be used to compare the RL model with."
   ]
  },
  {
   "cell_type": "code",
   "execution_count": 2,
   "metadata": {},
   "outputs": [
    {
     "data": {
      "text/html": [
       "<div>\n",
       "<style scoped>\n",
       "    .dataframe tbody tr th:only-of-type {\n",
       "        vertical-align: middle;\n",
       "    }\n",
       "\n",
       "    .dataframe tbody tr th {\n",
       "        vertical-align: top;\n",
       "    }\n",
       "\n",
       "    .dataframe thead th {\n",
       "        text-align: right;\n",
       "    }\n",
       "</style>\n",
       "<table border=\"1\" class=\"dataframe\">\n",
       "  <thead>\n",
       "    <tr style=\"text-align: right;\">\n",
       "      <th></th>\n",
       "      <th>SessionId</th>\n",
       "      <th>Time</th>\n",
       "      <th>ItemId</th>\n",
       "      <th>Date</th>\n",
       "      <th>Datestamp</th>\n",
       "      <th>TimeO</th>\n",
       "      <th>ItemSupport</th>\n",
       "    </tr>\n",
       "  </thead>\n",
       "  <tbody>\n",
       "    <tr>\n",
       "      <th>0</th>\n",
       "      <td>1</td>\n",
       "      <td>1.462752e+09</td>\n",
       "      <td>9654</td>\n",
       "      <td>2016-05-09</td>\n",
       "      <td>1.462752e+09</td>\n",
       "      <td>2016-05-09 00:01:15.848000+00:00</td>\n",
       "      <td>399</td>\n",
       "    </tr>\n",
       "    <tr>\n",
       "      <th>1</th>\n",
       "      <td>1</td>\n",
       "      <td>1.462752e+09</td>\n",
       "      <td>33043</td>\n",
       "      <td>2016-05-09</td>\n",
       "      <td>1.462752e+09</td>\n",
       "      <td>2016-05-09 00:02:53.912000+00:00</td>\n",
       "      <td>195</td>\n",
       "    </tr>\n",
       "    <tr>\n",
       "      <th>2</th>\n",
       "      <td>1</td>\n",
       "      <td>1.462752e+09</td>\n",
       "      <td>32118</td>\n",
       "      <td>2016-05-09</td>\n",
       "      <td>1.462752e+09</td>\n",
       "      <td>2016-05-09 00:04:03.569000+00:00</td>\n",
       "      <td>67</td>\n",
       "    </tr>\n",
       "    <tr>\n",
       "      <th>3</th>\n",
       "      <td>1</td>\n",
       "      <td>1.462752e+09</td>\n",
       "      <td>12352</td>\n",
       "      <td>2016-05-09</td>\n",
       "      <td>1.462752e+09</td>\n",
       "      <td>2016-05-09 00:05:29.870000+00:00</td>\n",
       "      <td>327</td>\n",
       "    </tr>\n",
       "    <tr>\n",
       "      <th>4</th>\n",
       "      <td>1</td>\n",
       "      <td>1.462752e+09</td>\n",
       "      <td>35077</td>\n",
       "      <td>2016-05-09</td>\n",
       "      <td>1.462752e+09</td>\n",
       "      <td>2016-05-09 00:06:30.072000+00:00</td>\n",
       "      <td>102</td>\n",
       "    </tr>\n",
       "  </tbody>\n",
       "</table>\n",
       "</div>"
      ],
      "text/plain": [
       "   SessionId          Time  ItemId        Date     Datestamp  \\\n",
       "0          1  1.462752e+09    9654  2016-05-09  1.462752e+09   \n",
       "1          1  1.462752e+09   33043  2016-05-09  1.462752e+09   \n",
       "2          1  1.462752e+09   32118  2016-05-09  1.462752e+09   \n",
       "3          1  1.462752e+09   12352  2016-05-09  1.462752e+09   \n",
       "4          1  1.462752e+09   35077  2016-05-09  1.462752e+09   \n",
       "\n",
       "                              TimeO  ItemSupport  \n",
       "0  2016-05-09 00:01:15.848000+00:00          399  \n",
       "1  2016-05-09 00:02:53.912000+00:00          195  \n",
       "2  2016-05-09 00:04:03.569000+00:00           67  \n",
       "3  2016-05-09 00:05:29.870000+00:00          327  \n",
       "4  2016-05-09 00:06:30.072000+00:00          102  "
      ]
     },
     "metadata": {},
     "output_type": "display_data"
    },
    {
     "data": {
      "text/plain": [
       "(859459, 7)"
      ]
     },
     "metadata": {},
     "output_type": "display_data"
    }
   ],
   "source": [
    "train_data = pd.read_csv(r'data\\retailrocket\\prepared\\train-item-views_train_tr.txt',\n",
    "                    sep='\\t',)\n",
    "display(train_data.head())\n",
    "display(train_data.shape)\n"
   ]
  },
  {
   "cell_type": "code",
   "execution_count": 3,
   "metadata": {},
   "outputs": [
    {
     "data": {
      "text/html": [
       "<div>\n",
       "<style scoped>\n",
       "    .dataframe tbody tr th:only-of-type {\n",
       "        vertical-align: middle;\n",
       "    }\n",
       "\n",
       "    .dataframe tbody tr th {\n",
       "        vertical-align: top;\n",
       "    }\n",
       "\n",
       "    .dataframe thead th {\n",
       "        text-align: right;\n",
       "    }\n",
       "</style>\n",
       "<table border=\"1\" class=\"dataframe\">\n",
       "  <thead>\n",
       "    <tr style=\"text-align: right;\">\n",
       "      <th></th>\n",
       "      <th>SessionId</th>\n",
       "      <th>Time</th>\n",
       "      <th>ItemId</th>\n",
       "      <th>Date</th>\n",
       "      <th>Datestamp</th>\n",
       "      <th>TimeO</th>\n",
       "      <th>ItemSupport</th>\n",
       "    </tr>\n",
       "  </thead>\n",
       "  <tbody>\n",
       "    <tr>\n",
       "      <th>0</th>\n",
       "      <td>289</td>\n",
       "      <td>1.464221e+09</td>\n",
       "      <td>125013</td>\n",
       "      <td>2016-05-26</td>\n",
       "      <td>1.464221e+09</td>\n",
       "      <td>2016-05-26 00:00:18.301000+00:00</td>\n",
       "      <td>10</td>\n",
       "    </tr>\n",
       "    <tr>\n",
       "      <th>1</th>\n",
       "      <td>289</td>\n",
       "      <td>1.464222e+09</td>\n",
       "      <td>64068</td>\n",
       "      <td>2016-05-26</td>\n",
       "      <td>1.464221e+09</td>\n",
       "      <td>2016-05-26 00:14:07.735000+00:00</td>\n",
       "      <td>30</td>\n",
       "    </tr>\n",
       "    <tr>\n",
       "      <th>2</th>\n",
       "      <td>289</td>\n",
       "      <td>1.464222e+09</td>\n",
       "      <td>133346</td>\n",
       "      <td>2016-05-26</td>\n",
       "      <td>1.464221e+09</td>\n",
       "      <td>2016-05-26 00:14:38.934000+00:00</td>\n",
       "      <td>36</td>\n",
       "    </tr>\n",
       "    <tr>\n",
       "      <th>3</th>\n",
       "      <td>289</td>\n",
       "      <td>1.464222e+09</td>\n",
       "      <td>438457</td>\n",
       "      <td>2016-05-26</td>\n",
       "      <td>1.464221e+09</td>\n",
       "      <td>2016-05-26 00:18:34.305000+00:00</td>\n",
       "      <td>6</td>\n",
       "    </tr>\n",
       "    <tr>\n",
       "      <th>4</th>\n",
       "      <td>289</td>\n",
       "      <td>1.464222e+09</td>\n",
       "      <td>198930</td>\n",
       "      <td>2016-05-26</td>\n",
       "      <td>1.464221e+09</td>\n",
       "      <td>2016-05-26 00:18:48.607000+00:00</td>\n",
       "      <td>10</td>\n",
       "    </tr>\n",
       "  </tbody>\n",
       "</table>\n",
       "</div>"
      ],
      "text/plain": [
       "   SessionId          Time  ItemId        Date     Datestamp  \\\n",
       "0        289  1.464221e+09  125013  2016-05-26  1.464221e+09   \n",
       "1        289  1.464222e+09   64068  2016-05-26  1.464221e+09   \n",
       "2        289  1.464222e+09  133346  2016-05-26  1.464221e+09   \n",
       "3        289  1.464222e+09  438457  2016-05-26  1.464221e+09   \n",
       "4        289  1.464222e+09  198930  2016-05-26  1.464221e+09   \n",
       "\n",
       "                              TimeO  ItemSupport  \n",
       "0  2016-05-26 00:00:18.301000+00:00           10  \n",
       "1  2016-05-26 00:14:07.735000+00:00           30  \n",
       "2  2016-05-26 00:14:38.934000+00:00           36  \n",
       "3  2016-05-26 00:18:34.305000+00:00            6  \n",
       "4  2016-05-26 00:18:48.607000+00:00           10  "
      ]
     },
     "metadata": {},
     "output_type": "display_data"
    },
    {
     "data": {
      "text/plain": [
       "(76895, 7)"
      ]
     },
     "metadata": {},
     "output_type": "display_data"
    }
   ],
   "source": [
    "test_data = pd.read_csv(r'data\\retailrocket\\prepared\\train-item-views_test.txt',\n",
    "                    sep='\\t',)\n",
    "\n",
    "display(test_data.head())\n",
    "display(test_data.shape)\n"
   ]
  },
  {
   "cell_type": "markdown",
   "metadata": {},
   "source": [
    "# Initialise the model (`VSKNN_STAN`)\n",
    "Model parameters are based on research of [S. Latifi, N. Mauro and D. Jannach. 2021. Session-aware recommendation: a surprising quest for the state-of-the-art. Information Sciences](https://doi.org/10.1016/j.ins.2021.05.048) \n",
    "\n",
    "* Optimised parameters for Retail Rocket dataset: [config](https://github.com/rn5l/session-rec/blob/5dcd583cbd8d44703a5248b9a308945f24b91390/conf/save/retailrocket/session_based/window/window_retailr_vstan.yml)  \n",
    "    k: 500  \n",
    "    sample_size: 1000  \n",
    "    similarity: 'cosine'  \n",
    "    stan:  \n",
    "    lambda_spw: 7.24  \n",
    "    lambda_snh: 100  \n",
    "    lambda_inh: 3.62  \n",
    "    vsknn:  \n",
    "    lambda_ipw: 3.62  \n",
    "    lambda_idf: 1  \n",
    "\n",
    "* Optimised parameters for Diginetica dataset: [config](https://github.com/rn5l/session-rec/blob/5dcd583cbd8d44703a5248b9a308945f24b91390/conf/save/diginetica/window/window_multiple_digi_vstan.yml)  \n",
    "    k: 100  \n",
    "    sample_size: 1000  \n",
    "    similarity: 'vec'  \n",
    "    stan:  \n",
    "    lambda_spw: 4.9  \n",
    "    lambda_snh: 80  \n",
    "    lambda_inh: 9.8  \n",
    "    vsknn:  \n",
    "    lambda_ipw: 4.9  \n",
    "    lambda_idf: 5  \n",
    "\n"
   ]
  },
  {
   "cell_type": "markdown",
   "metadata": {},
   "source": [
    "## Retail Rocket"
   ]
  },
  {
   "cell_type": "code",
   "execution_count": 4,
   "metadata": {},
   "outputs": [],
   "source": [
    "model_Ret = VSKNN_STAN(k=500,\n",
    "                       sample_size=1000,\n",
    "                       similarity='cosine',  \n",
    "                       #stan:  \n",
    "                       lambda_spw=7.24,  \n",
    "                       lambda_snh=100,  \n",
    "                       lambda_inh=3.62,  \n",
    "                       #vsknn:  \n",
    "                       lambda_ipw=3.62, \n",
    "                       lambda_idf=1\n",
    "                       )"
   ]
  },
  {
   "cell_type": "code",
   "execution_count": 5,
   "metadata": {},
   "outputs": [],
   "source": [
    "model_Ret.fit(train=train_data, test=test_data)"
   ]
  },
  {
   "cell_type": "code",
   "execution_count": 6,
   "metadata": {},
   "outputs": [
    {
     "name": "stdout",
     "output_type": "stream",
     "text": [
      "9654      0.0\n",
      "33043     0.0\n",
      "32118     0.0\n",
      "12352     0.0\n",
      "35077     0.0\n",
      "         ... \n",
      "258318    0.0\n",
      "175457    0.0\n",
      "416695    0.0\n",
      "381794    0.0\n",
      "73017     0.0\n",
      "Length: 43023, dtype: float64\n"
     ]
    }
   ],
   "source": [
    "predictions = model_Ret.predict_next(session_id=289, \n",
    "                                     input_item_id=133346,\n",
    "                                     predict_for_item_ids=train_data['ItemId'].unique())\n",
    "print(predictions)"
   ]
  },
  {
   "cell_type": "code",
   "execution_count": 7,
   "metadata": {},
   "outputs": [
    {
     "name": "stdout",
     "output_type": "stream",
     "text": [
      "START evaluation of  76895  actions in  15969  sessions\n",
      "    eval process:  0  of  76895  actions:  0.0  %\n",
      "    eval process:  1000  of  76895  actions:  1.3004746732557384  %\n",
      "    eval process:  2000  of  76895  actions:  2.600949346511477  %\n",
      "    eval process:  3000  of  76895  actions:  3.901424019767215  %\n",
      "    eval process:  4000  of  76895  actions:  5.201898693022954  %\n",
      "    eval process:  5000  of  76895  actions:  6.502373366278692  %\n",
      "    eval process:  6000  of  76895  actions:  7.80284803953443  %\n",
      "    eval process:  7000  of  76895  actions:  9.103322712790169  %\n",
      "    eval process:  8000  of  76895  actions:  10.403797386045907  %\n",
      "    eval process:  9000  of  76895  actions:  11.704272059301644  %\n",
      "    eval process:  10000  of  76895  actions:  13.004746732557384  %\n",
      "    eval process:  11000  of  76895  actions:  14.305221405813121  %\n",
      "    eval process:  12000  of  76895  actions:  15.60569607906886  %\n",
      "    eval process:  13000  of  76895  actions:  16.9061707523246  %\n",
      "    eval process:  14000  of  76895  actions:  18.206645425580337  %\n",
      "    eval process:  15000  of  76895  actions:  19.507120098836076  %\n",
      "    eval process:  16000  of  76895  actions:  20.807594772091814  %\n",
      "    eval process:  17000  of  76895  actions:  22.108069445347553  %\n",
      "    eval process:  18000  of  76895  actions:  23.408544118603288  %\n",
      "    eval process:  19000  of  76895  actions:  24.709018791859027  %\n",
      "    eval process:  20000  of  76895  actions:  26.00949346511477  %\n",
      "    eval process:  21000  of  76895  actions:  27.309968138370504  %\n",
      "    eval process:  22000  of  76895  actions:  28.610442811626243  %\n",
      "    eval process:  23000  of  76895  actions:  29.91091748488198  %\n",
      "    eval process:  24000  of  76895  actions:  31.21139215813772  %\n",
      "    eval process:  25000  of  76895  actions:  32.51186683139346  %\n",
      "    eval process:  26000  of  76895  actions:  33.8123415046492  %\n",
      "    eval process:  27000  of  76895  actions:  35.11281617790494  %\n",
      "    eval process:  28000  of  76895  actions:  36.413290851160674  %\n",
      "    eval process:  29000  of  76895  actions:  37.71376552441641  %\n",
      "    eval process:  30000  of  76895  actions:  39.01424019767215  %\n",
      "    eval process:  31000  of  76895  actions:  40.31471487092789  %\n",
      "    eval process:  32000  of  76895  actions:  41.61518954418363  %\n",
      "    eval process:  33000  of  76895  actions:  42.915664217439364  %\n",
      "    eval process:  34000  of  76895  actions:  44.216138890695106  %\n",
      "    eval process:  35000  of  76895  actions:  45.51661356395084  %\n",
      "    eval process:  36000  of  76895  actions:  46.817088237206576  %\n",
      "    eval process:  37000  of  76895  actions:  48.11756291046232  %\n",
      "    eval process:  38000  of  76895  actions:  49.41803758371805  %\n",
      "    eval process:  39000  of  76895  actions:  50.71851225697379  %\n",
      "    eval process:  40000  of  76895  actions:  52.01898693022954  %\n",
      "    eval process:  41000  of  76895  actions:  53.31946160348527  %\n",
      "    eval process:  42000  of  76895  actions:  54.61993627674101  %\n",
      "    eval process:  43000  of  76895  actions:  55.92041094999674  %\n",
      "    eval process:  44000  of  76895  actions:  57.220885623252485  %\n",
      "    eval process:  45000  of  76895  actions:  58.52136029650823  %\n",
      "    eval process:  46000  of  76895  actions:  59.82183496976396  %\n",
      "    eval process:  47000  of  76895  actions:  61.122309643019705  %\n",
      "    eval process:  48000  of  76895  actions:  62.42278431627544  %\n",
      "    eval process:  49000  of  76895  actions:  63.72325898953118  %\n",
      "    eval process:  50000  of  76895  actions:  65.02373366278692  %\n",
      "    eval process:  51000  of  76895  actions:  66.32420833604266  %\n",
      "    eval process:  52000  of  76895  actions:  67.6246830092984  %\n",
      "    eval process:  53000  of  76895  actions:  68.92515768255413  %\n",
      "    eval process:  54000  of  76895  actions:  70.22563235580988  %\n",
      "    eval process:  55000  of  76895  actions:  71.52610702906561  %\n",
      "    eval process:  56000  of  76895  actions:  72.82658170232135  %\n",
      "    eval process:  57000  of  76895  actions:  74.12705637557708  %\n",
      "    eval process:  58000  of  76895  actions:  75.42753104883282  %\n",
      "    eval process:  59000  of  76895  actions:  76.72800572208857  %\n",
      "    eval process:  60000  of  76895  actions:  78.0284803953443  %\n",
      "    eval process:  61000  of  76895  actions:  79.32895506860004  %\n",
      "    eval process:  62000  of  76895  actions:  80.62942974185577  %\n",
      "    eval process:  63000  of  76895  actions:  81.92990441511152  %\n",
      "    eval process:  64000  of  76895  actions:  83.23037908836726  %\n",
      "    eval process:  65000  of  76895  actions:  84.53085376162299  %\n",
      "    eval process:  66000  of  76895  actions:  85.83132843487873  %\n",
      "    eval process:  67000  of  76895  actions:  87.13180310813446  %\n",
      "    eval process:  68000  of  76895  actions:  88.43227778139021  %\n",
      "    eval process:  69000  of  76895  actions:  89.73275245464595  %\n",
      "    eval process:  70000  of  76895  actions:  91.03322712790168  %\n",
      "    eval process:  71000  of  76895  actions:  92.33370180115742  %\n",
      "    eval process:  72000  of  76895  actions:  93.63417647441315  %\n",
      "    eval process:  73000  of  76895  actions:  94.9346511476689  %\n",
      "    eval process:  74000  of  76895  actions:  96.23512582092464  %\n",
      "    eval process:  75000  of  76895  actions:  97.53560049418037  %\n",
      "    eval process:  76000  of  76895  actions:  98.8360751674361  %\n",
      "END evaluation\n"
     ]
    },
    {
     "data": {
      "text/plain": [
       "[('MRR@20: ',\n",
       "  0.18372355549278785,\n",
       "  'Bin: ;\\nPrecision@20: ;',\n",
       "  'Pos: ;0;1;2;3;4;5;6;7;8;9;10;11;12;13;14;15;16;17;18;19;20;21;22;23;24;25;26;27;28;29;30;31;32;33;34;35;36;37;38;39;\\nPrecision@20: ;0.1923429731707262;0.2130989751510292;0.18494087024707742;0.17348302115182757;0.17469568653083595;0.16558751112390638;0.160819786134727;0.15158782965596843;0.1598319946330456;0.14795290669414837;0.16483622190962532;0.15703123369639385;0.1575727141065769;0.15267422600506575;0.15321847675160974;0.15358743696471566;0.13086965926122007;0.14231122064023527;0.1531287431342716;0.10542372375431582;0.130395174042715;0.14180672268907565;0.11122303622303623;0.054672943988201335;0.18073870573870573;0.12518037518037517;0.12446189001916556;0.10142390289449113;0.14041783380018671;0.07324374971433795;0.017361111111111112;0.0755952380952381;0.027551020408163263;0.36666666666666664;0.265625;0.25;0.5;0.3333333333333333;0.16666666666666666;0.05;'),\n",
       " ('HitRate@20: ',\n",
       "  0.5135246036175032,\n",
       "  'Bin: ;\\nHitRate@20: ;',\n",
       "  'Pos: ;0;1;2;3;4;5;6;7;8;9;10;11;12;13;14;15;16;17;18;19;20;21;22;23;24;25;26;27;28;29;30;31;32;33;34;35;36;37;38;39;\\nHitRate@20: ;0.48994927672365207;0.5400803353126091;0.5325826545280307;0.5162237078102071;0.5213065109236427;0.5196392202502182;0.5205585725368502;0.49898477157360405;0.5109926715522984;0.48596491228070177;0.5034883720930232;0.49922958397534667;0.4909456740442656;0.4961439588688946;0.5096153846153846;0.5020746887966805;0.43103448275862066;0.4057971014492754;0.4857142857142857;0.4625;0.4426229508196721;0.30434782608695654;0.41025641025641024;0.34375;0.38461538461538464;0.3181818181818182;0.47368421052631576;0.5;0.5;0.5454545454545454;0.2;0.375;0.2857142857142857;0.6;0.5;0.25;0.6666666666666666;0.3333333333333333;0.5;0.5;')]"
      ]
     },
     "execution_count": 7,
     "metadata": {},
     "output_type": "execute_result"
    }
   ],
   "source": [
    "metrics = [MRR(20),\n",
    "           HitRate(20)]\n",
    "\n",
    "evaluate_sessions(pr=model_Ret,\n",
    "                  metrics= metrics,\n",
    "                  test_data=test_data,\n",
    "                  train_data=train_data,\n",
    "                  cut_off=20)"
   ]
  },
  {
   "cell_type": "code",
   "execution_count": 9,
   "metadata": {},
   "outputs": [
    {
     "name": "stdout",
     "output_type": "stream",
     "text": [
      "[('MRR@20: ', 0.18372355549278785, 'Bin: ;\\nPrecision@20: ;', 'Pos: ;0;1;2;3;4;5;6;7;8;9;10;11;12;13;14;15;16;17;18;19;20;21;22;23;24;25;26;27;28;29;30;31;32;33;34;35;36;37;38;39;\\nPrecision@20: ;0.1923429731707262;0.2130989751510292;0.18494087024707742;0.17348302115182757;0.17469568653083595;0.16558751112390638;0.160819786134727;0.15158782965596843;0.1598319946330456;0.14795290669414837;0.16483622190962532;0.15703123369639385;0.1575727141065769;0.15267422600506575;0.15321847675160974;0.15358743696471566;0.13086965926122007;0.14231122064023527;0.1531287431342716;0.10542372375431582;0.130395174042715;0.14180672268907565;0.11122303622303623;0.054672943988201335;0.18073870573870573;0.12518037518037517;0.12446189001916556;0.10142390289449113;0.14041783380018671;0.07324374971433795;0.017361111111111112;0.0755952380952381;0.027551020408163263;0.36666666666666664;0.265625;0.25;0.5;0.3333333333333333;0.16666666666666666;0.05;'), ('HitRate@20: ', 0.5135246036175032, 'Bin: ;\\nHitRate@20: ;', 'Pos: ;0;1;2;3;4;5;6;7;8;9;10;11;12;13;14;15;16;17;18;19;20;21;22;23;24;25;26;27;28;29;30;31;32;33;34;35;36;37;38;39;\\nHitRate@20: ;0.48994927672365207;0.5400803353126091;0.5325826545280307;0.5162237078102071;0.5213065109236427;0.5196392202502182;0.5205585725368502;0.49898477157360405;0.5109926715522984;0.48596491228070177;0.5034883720930232;0.49922958397534667;0.4909456740442656;0.4961439588688946;0.5096153846153846;0.5020746887966805;0.43103448275862066;0.4057971014492754;0.4857142857142857;0.4625;0.4426229508196721;0.30434782608695654;0.41025641025641024;0.34375;0.38461538461538464;0.3181818181818182;0.47368421052631576;0.5;0.5;0.5454545454545454;0.2;0.375;0.2857142857142857;0.6;0.5;0.25;0.6666666666666666;0.3333333333333333;0.5;0.5;')]\n"
     ]
    }
   ],
   "source": [
    "results = [('MRR@20: ',\n",
    "  0.18372355549278785,\n",
    "  'Bin: ;\\nPrecision@20: ;',\n",
    "  'Pos: ;0;1;2;3;4;5;6;7;8;9;10;11;12;13;14;15;16;17;18;19;20;21;22;23;24;25;26;27;28;29;30;31;32;33;34;35;36;37;38;39;\\nPrecision@20: ;0.1923429731707262;0.2130989751510292;0.18494087024707742;0.17348302115182757;0.17469568653083595;0.16558751112390638;0.160819786134727;0.15158782965596843;0.1598319946330456;0.14795290669414837;0.16483622190962532;0.15703123369639385;0.1575727141065769;0.15267422600506575;0.15321847675160974;0.15358743696471566;0.13086965926122007;0.14231122064023527;0.1531287431342716;0.10542372375431582;0.130395174042715;0.14180672268907565;0.11122303622303623;0.054672943988201335;0.18073870573870573;0.12518037518037517;0.12446189001916556;0.10142390289449113;0.14041783380018671;0.07324374971433795;0.017361111111111112;0.0755952380952381;0.027551020408163263;0.36666666666666664;0.265625;0.25;0.5;0.3333333333333333;0.16666666666666666;0.05;'),\n",
    " ('HitRate@20: ',\n",
    "  0.5135246036175032,\n",
    "  'Bin: ;\\nHitRate@20: ;',\n",
    "  'Pos: ;0;1;2;3;4;5;6;7;8;9;10;11;12;13;14;15;16;17;18;19;20;21;22;23;24;25;26;27;28;29;30;31;32;33;34;35;36;37;38;39;\\nHitRate@20: ;0.48994927672365207;0.5400803353126091;0.5325826545280307;0.5162237078102071;0.5213065109236427;0.5196392202502182;0.5205585725368502;0.49898477157360405;0.5109926715522984;0.48596491228070177;0.5034883720930232;0.49922958397534667;0.4909456740442656;0.4961439588688946;0.5096153846153846;0.5020746887966805;0.43103448275862066;0.4057971014492754;0.4857142857142857;0.4625;0.4426229508196721;0.30434782608695654;0.41025641025641024;0.34375;0.38461538461538464;0.3181818181818182;0.47368421052631576;0.5;0.5;0.5454545454545454;0.2;0.375;0.2857142857142857;0.6;0.5;0.25;0.6666666666666666;0.3333333333333333;0.5;0.5;')]\n",
    "\n",
    "print(results)"
   ]
  },
  {
   "cell_type": "code",
   "execution_count": 12,
   "metadata": {},
   "outputs": [
    {
     "data": {
      "text/plain": [
       "('MRR@20: ',\n",
       " 0.18372355549278785,\n",
       " 'Bin: ;\\nPrecision@20: ;',\n",
       " 'Pos: ;0;1;2;3;4;5;6;7;8;9;10;11;12;13;14;15;16;17;18;19;20;21;22;23;24;25;26;27;28;29;30;31;32;33;34;35;36;37;38;39;\\nPrecision@20: ;0.1923429731707262;0.2130989751510292;0.18494087024707742;0.17348302115182757;0.17469568653083595;0.16558751112390638;0.160819786134727;0.15158782965596843;0.1598319946330456;0.14795290669414837;0.16483622190962532;0.15703123369639385;0.1575727141065769;0.15267422600506575;0.15321847675160974;0.15358743696471566;0.13086965926122007;0.14231122064023527;0.1531287431342716;0.10542372375431582;0.130395174042715;0.14180672268907565;0.11122303622303623;0.054672943988201335;0.18073870573870573;0.12518037518037517;0.12446189001916556;0.10142390289449113;0.14041783380018671;0.07324374971433795;0.017361111111111112;0.0755952380952381;0.027551020408163263;0.36666666666666664;0.265625;0.25;0.5;0.3333333333333333;0.16666666666666666;0.05;')"
      ]
     },
     "execution_count": 12,
     "metadata": {},
     "output_type": "execute_result"
    }
   ],
   "source": [
    "results[0]"
   ]
  },
  {
   "cell_type": "markdown",
   "metadata": {},
   "source": [
    "## Diginetica"
   ]
  },
  {
   "cell_type": "code",
   "execution_count": 7,
   "metadata": {},
   "outputs": [],
   "source": [
    "# initialise parameters for Diginetica dataset as mentioned before\n",
    "model_Dig = VSKNN_STAN(k=100,\n",
    "                       sample_size=1000,\n",
    "                       similarity='vec',\n",
    "                    #    stan:  \n",
    "                       lambda_spw=4.9,  \n",
    "                       lambda_snh=80,  \n",
    "                       lambda_inh=9.8,  \n",
    "                    #    vsknn:  \n",
    "                       lambda_ipw=4.9, \n",
    "                       lambda_idf=5\n",
    "                       )"
   ]
  }
 ],
 "metadata": {
  "kernelspec": {
   "display_name": "master_thesis",
   "language": "python",
   "name": "python3"
  },
  "language_info": {
   "codemirror_mode": {
    "name": "ipython",
    "version": 3
   },
   "file_extension": ".py",
   "mimetype": "text/x-python",
   "name": "python",
   "nbconvert_exporter": "python",
   "pygments_lexer": "ipython3",
   "version": "3.9.19"
  }
 },
 "nbformat": 4,
 "nbformat_minor": 2
}
