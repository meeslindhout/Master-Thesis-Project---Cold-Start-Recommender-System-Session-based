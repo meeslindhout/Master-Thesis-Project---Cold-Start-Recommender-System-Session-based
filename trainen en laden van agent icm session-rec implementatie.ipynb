{
 "cells": [
  {
   "cell_type": "code",
   "execution_count": 1,
   "metadata": {},
   "outputs": [],
   "source": [
    "import pandas as pd\n",
    "import numpy as np\n",
    "from src.recsys_dev import rl_recommender\n",
    "import wandb"
   ]
  },
  {
   "cell_type": "code",
   "execution_count": 2,
   "metadata": {},
   "outputs": [
    {
     "name": "stderr",
     "output_type": "stream",
     "text": [
      "Failed to detect the name of this notebook, you can set it manually with the WANDB_NOTEBOOK_NAME environment variable to enable code saving.\n",
      "\u001b[34m\u001b[1mwandb\u001b[0m: Currently logged in as: \u001b[33mmeeslindhout\u001b[0m (\u001b[33muniversityofappliedsciencesamsterdam\u001b[0m). Use \u001b[1m`wandb login --relogin`\u001b[0m to force relogin\n"
     ]
    },
    {
     "data": {
      "text/plain": [
       "True"
      ]
     },
     "execution_count": 2,
     "metadata": {},
     "output_type": "execute_result"
    }
   ],
   "source": [
    "wandb.login()"
   ]
  },
  {
   "cell_type": "markdown",
   "metadata": {},
   "source": [
    "## Data loading"
   ]
  },
  {
   "cell_type": "code",
   "execution_count": 3,
   "metadata": {},
   "outputs": [
    {
     "data": {
      "text/html": [
       "<div>\n",
       "<style scoped>\n",
       "    .dataframe tbody tr th:only-of-type {\n",
       "        vertical-align: middle;\n",
       "    }\n",
       "\n",
       "    .dataframe tbody tr th {\n",
       "        vertical-align: top;\n",
       "    }\n",
       "\n",
       "    .dataframe thead th {\n",
       "        text-align: right;\n",
       "    }\n",
       "</style>\n",
       "<table border=\"1\" class=\"dataframe\">\n",
       "  <thead>\n",
       "    <tr style=\"text-align: right;\">\n",
       "      <th></th>\n",
       "      <th>SessionId</th>\n",
       "      <th>Time</th>\n",
       "      <th>ItemId</th>\n",
       "      <th>Date</th>\n",
       "      <th>Datestamp</th>\n",
       "      <th>TimeO</th>\n",
       "      <th>ItemSupport</th>\n",
       "      <th>event</th>\n",
       "    </tr>\n",
       "  </thead>\n",
       "  <tbody>\n",
       "    <tr>\n",
       "      <th>0</th>\n",
       "      <td>1</td>\n",
       "      <td>1.462752e+09</td>\n",
       "      <td>9654</td>\n",
       "      <td>2016-05-09</td>\n",
       "      <td>1.462752e+09</td>\n",
       "      <td>2016-05-09 00:01:15.848000+00:00</td>\n",
       "      <td>399</td>\n",
       "      <td>1</td>\n",
       "    </tr>\n",
       "    <tr>\n",
       "      <th>1</th>\n",
       "      <td>1</td>\n",
       "      <td>1.462752e+09</td>\n",
       "      <td>33043</td>\n",
       "      <td>2016-05-09</td>\n",
       "      <td>1.462752e+09</td>\n",
       "      <td>2016-05-09 00:02:53.912000+00:00</td>\n",
       "      <td>195</td>\n",
       "      <td>1</td>\n",
       "    </tr>\n",
       "    <tr>\n",
       "      <th>2</th>\n",
       "      <td>1</td>\n",
       "      <td>1.462752e+09</td>\n",
       "      <td>32118</td>\n",
       "      <td>2016-05-09</td>\n",
       "      <td>1.462752e+09</td>\n",
       "      <td>2016-05-09 00:04:03.569000+00:00</td>\n",
       "      <td>67</td>\n",
       "      <td>1</td>\n",
       "    </tr>\n",
       "    <tr>\n",
       "      <th>3</th>\n",
       "      <td>1</td>\n",
       "      <td>1.462752e+09</td>\n",
       "      <td>12352</td>\n",
       "      <td>2016-05-09</td>\n",
       "      <td>1.462752e+09</td>\n",
       "      <td>2016-05-09 00:05:29.870000+00:00</td>\n",
       "      <td>327</td>\n",
       "      <td>1</td>\n",
       "    </tr>\n",
       "    <tr>\n",
       "      <th>4</th>\n",
       "      <td>1</td>\n",
       "      <td>1.462752e+09</td>\n",
       "      <td>35077</td>\n",
       "      <td>2016-05-09</td>\n",
       "      <td>1.462752e+09</td>\n",
       "      <td>2016-05-09 00:06:30.072000+00:00</td>\n",
       "      <td>102</td>\n",
       "      <td>1</td>\n",
       "    </tr>\n",
       "  </tbody>\n",
       "</table>\n",
       "</div>"
      ],
      "text/plain": [
       "   SessionId          Time  ItemId        Date     Datestamp  \\\n",
       "0          1  1.462752e+09    9654  2016-05-09  1.462752e+09   \n",
       "1          1  1.462752e+09   33043  2016-05-09  1.462752e+09   \n",
       "2          1  1.462752e+09   32118  2016-05-09  1.462752e+09   \n",
       "3          1  1.462752e+09   12352  2016-05-09  1.462752e+09   \n",
       "4          1  1.462752e+09   35077  2016-05-09  1.462752e+09   \n",
       "\n",
       "                              TimeO  ItemSupport  event  \n",
       "0  2016-05-09 00:01:15.848000+00:00          399      1  \n",
       "1  2016-05-09 00:02:53.912000+00:00          195      1  \n",
       "2  2016-05-09 00:04:03.569000+00:00           67      1  \n",
       "3  2016-05-09 00:05:29.870000+00:00          327      1  \n",
       "4  2016-05-09 00:06:30.072000+00:00          102      1  "
      ]
     },
     "metadata": {},
     "output_type": "display_data"
    },
    {
     "data": {
      "text/plain": [
       "(100, 8)"
      ]
     },
     "metadata": {},
     "output_type": "display_data"
    }
   ],
   "source": [
    "train_data = pd.read_csv(r'data\\retailrocket\\prepared\\train-item-views_train_tr.txt',\n",
    "                    sep='\\t', nrows=100)\n",
    "\n",
    "\n",
    "# Randomly fill the \"event\" column with values 0, 1, and 2\n",
    "train_data['event'] = np.random.choice([0, 1, 2], size=len(train_data))\n",
    "\n",
    "display(train_data.head())\n",
    "display(train_data.shape)"
   ]
  },
  {
   "cell_type": "code",
   "execution_count": 4,
   "metadata": {},
   "outputs": [
    {
     "data": {
      "text/html": [
       "<div>\n",
       "<style scoped>\n",
       "    .dataframe tbody tr th:only-of-type {\n",
       "        vertical-align: middle;\n",
       "    }\n",
       "\n",
       "    .dataframe tbody tr th {\n",
       "        vertical-align: top;\n",
       "    }\n",
       "\n",
       "    .dataframe thead th {\n",
       "        text-align: right;\n",
       "    }\n",
       "</style>\n",
       "<table border=\"1\" class=\"dataframe\">\n",
       "  <thead>\n",
       "    <tr style=\"text-align: right;\">\n",
       "      <th></th>\n",
       "      <th>SessionId</th>\n",
       "      <th>Time</th>\n",
       "      <th>ItemId</th>\n",
       "      <th>Date</th>\n",
       "      <th>Datestamp</th>\n",
       "      <th>TimeO</th>\n",
       "      <th>ItemSupport</th>\n",
       "      <th>event</th>\n",
       "    </tr>\n",
       "  </thead>\n",
       "  <tbody>\n",
       "    <tr>\n",
       "      <th>0</th>\n",
       "      <td>289</td>\n",
       "      <td>1.464221e+09</td>\n",
       "      <td>125013</td>\n",
       "      <td>2016-05-26</td>\n",
       "      <td>1.464221e+09</td>\n",
       "      <td>2016-05-26 00:00:18.301000+00:00</td>\n",
       "      <td>10</td>\n",
       "      <td>0</td>\n",
       "    </tr>\n",
       "    <tr>\n",
       "      <th>1</th>\n",
       "      <td>289</td>\n",
       "      <td>1.464222e+09</td>\n",
       "      <td>64068</td>\n",
       "      <td>2016-05-26</td>\n",
       "      <td>1.464221e+09</td>\n",
       "      <td>2016-05-26 00:14:07.735000+00:00</td>\n",
       "      <td>30</td>\n",
       "      <td>1</td>\n",
       "    </tr>\n",
       "    <tr>\n",
       "      <th>2</th>\n",
       "      <td>289</td>\n",
       "      <td>1.464222e+09</td>\n",
       "      <td>133346</td>\n",
       "      <td>2016-05-26</td>\n",
       "      <td>1.464221e+09</td>\n",
       "      <td>2016-05-26 00:14:38.934000+00:00</td>\n",
       "      <td>36</td>\n",
       "      <td>1</td>\n",
       "    </tr>\n",
       "    <tr>\n",
       "      <th>3</th>\n",
       "      <td>289</td>\n",
       "      <td>1.464222e+09</td>\n",
       "      <td>438457</td>\n",
       "      <td>2016-05-26</td>\n",
       "      <td>1.464221e+09</td>\n",
       "      <td>2016-05-26 00:18:34.305000+00:00</td>\n",
       "      <td>6</td>\n",
       "      <td>1</td>\n",
       "    </tr>\n",
       "    <tr>\n",
       "      <th>4</th>\n",
       "      <td>289</td>\n",
       "      <td>1.464222e+09</td>\n",
       "      <td>198930</td>\n",
       "      <td>2016-05-26</td>\n",
       "      <td>1.464221e+09</td>\n",
       "      <td>2016-05-26 00:18:48.607000+00:00</td>\n",
       "      <td>10</td>\n",
       "      <td>1</td>\n",
       "    </tr>\n",
       "  </tbody>\n",
       "</table>\n",
       "</div>"
      ],
      "text/plain": [
       "   SessionId          Time  ItemId        Date     Datestamp  \\\n",
       "0        289  1.464221e+09  125013  2016-05-26  1.464221e+09   \n",
       "1        289  1.464222e+09   64068  2016-05-26  1.464221e+09   \n",
       "2        289  1.464222e+09  133346  2016-05-26  1.464221e+09   \n",
       "3        289  1.464222e+09  438457  2016-05-26  1.464221e+09   \n",
       "4        289  1.464222e+09  198930  2016-05-26  1.464221e+09   \n",
       "\n",
       "                              TimeO  ItemSupport  event  \n",
       "0  2016-05-26 00:00:18.301000+00:00           10      0  \n",
       "1  2016-05-26 00:14:07.735000+00:00           30      1  \n",
       "2  2016-05-26 00:14:38.934000+00:00           36      1  \n",
       "3  2016-05-26 00:18:34.305000+00:00            6      1  \n",
       "4  2016-05-26 00:18:48.607000+00:00           10      1  "
      ]
     },
     "metadata": {},
     "output_type": "display_data"
    },
    {
     "data": {
      "text/plain": [
       "(40, 8)"
      ]
     },
     "metadata": {},
     "output_type": "display_data"
    }
   ],
   "source": [
    "test_data = pd.read_csv(r'data\\retailrocket\\prepared\\train-item-views_test.txt',\n",
    "                    sep='\\t', nrows=40)\n",
    "\n",
    "# Randomly fill the \"event\" column with values 0, 1, and 2\n",
    "test_data['event'] = np.random.choice([0, 1, 2], size=len(test_data))\n",
    "\n",
    "display(test_data.head())\n",
    "display(test_data.shape)"
   ]
  },
  {
   "cell_type": "markdown",
   "metadata": {},
   "source": [
    "## Agent training"
   ]
  },
  {
   "cell_type": "code",
   "execution_count": 5,
   "metadata": {},
   "outputs": [],
   "source": [
    "model = rl_recommender(\n",
    "    # pre processing parameters\n",
    "    n_history=3,\n",
    "    reward_dict={0:1, 1:5, 2:10},\n",
    "    # dqn\n",
    "    mode='training',\n",
    "    target_update_freq=5,\n",
    "    num_episodes = 10\n",
    "    log_to_wandb=False\n",
    "    )"
   ]
  },
  {
   "cell_type": "code",
   "execution_count": 6,
   "metadata": {},
   "outputs": [
    {
     "name": "stdout",
     "output_type": "stream",
     "text": [
      "Started converting train data to tensors...\n",
      "Episode tensors created successfully\n",
      "Initializing gym environment...\n",
      "Initializing offline training agent...\n"
     ]
    },
    {
     "data": {
      "text/html": [
       "Tracking run with wandb version 0.17.1"
      ],
      "text/plain": [
       "<IPython.core.display.HTML object>"
      ]
     },
     "metadata": {},
     "output_type": "display_data"
    },
    {
     "data": {
      "text/html": [
       "Run data is saved locally in <code>c:\\Users\\Mees\\Coding Projects\\Master-Thesis-Project---Cold-Start-Recommender-System-Session-based\\wandb\\run-20240607_100517-fgvmfg6v</code>"
      ],
      "text/plain": [
       "<IPython.core.display.HTML object>"
      ]
     },
     "metadata": {},
     "output_type": "display_data"
    },
    {
     "data": {
      "text/html": [
       "Syncing run <strong><a href='https://wandb.ai/universityofappliedsciencesamsterdam/RecSys%20RL/runs/fgvmfg6v' target=\"_blank\">eternal-dream-1</a></strong> to <a href='https://wandb.ai/universityofappliedsciencesamsterdam/RecSys%20RL' target=\"_blank\">Weights & Biases</a> (<a href='https://wandb.me/run' target=\"_blank\">docs</a>)<br/>"
      ],
      "text/plain": [
       "<IPython.core.display.HTML object>"
      ]
     },
     "metadata": {},
     "output_type": "display_data"
    },
    {
     "data": {
      "text/html": [
       " View project at <a href='https://wandb.ai/universityofappliedsciencesamsterdam/RecSys%20RL' target=\"_blank\">https://wandb.ai/universityofappliedsciencesamsterdam/RecSys%20RL</a>"
      ],
      "text/plain": [
       "<IPython.core.display.HTML object>"
      ]
     },
     "metadata": {},
     "output_type": "display_data"
    },
    {
     "data": {
      "text/html": [
       " View run at <a href='https://wandb.ai/universityofappliedsciencesamsterdam/RecSys%20RL/runs/fgvmfg6v' target=\"_blank\">https://wandb.ai/universityofappliedsciencesamsterdam/RecSys%20RL/runs/fgvmfg6v</a>"
      ],
      "text/plain": [
       "<IPython.core.display.HTML object>"
      ]
     },
     "metadata": {},
     "output_type": "display_data"
    },
    {
     "name": "stdout",
     "output_type": "stream",
     "text": [
      "Started training loop...\n",
      "Episode 1/10 completed with reward: 52\n",
      "Episode 2/10 completed with reward: 10\n",
      "Episode 3/10 completed with reward: 61\n",
      "Episode 4/10 completed with reward: 5\n",
      "Episode 5/10 completed with reward: 6\n",
      "Episode 6/10 completed with reward: 11\n",
      "Episode 7/10 completed with reward: 10\n",
      "Episode 8/10 completed with reward: 22\n",
      "Episode 9/10 completed with reward: 6\n",
      "Episode 10/10 completed with reward: 44\n",
      "Training completed!\n",
      "Saving model...\n",
      "Model specific parameters\n",
      "n_history: 3\n",
      "state_size: 3\n",
      "action_size: 375734\n",
      "Model successfully saved!\n",
      "Saved path: \n",
      "trained agents/dataset_not_undefined/20240607_100521 - n_hist 3 state_size 3 action_size 375734.pth\n"
     ]
    }
   ],
   "source": [
    "model.fit(train=train_data)"
   ]
  },
  {
   "cell_type": "code",
   "execution_count": 16,
   "metadata": {},
   "outputs": [
    {
     "name": "stdout",
     "output_type": "stream",
     "text": [
      "Initializing offline training agent\n",
      "Loading pretrained model from: trained agents\\dataset_not_undefined\\20240605_170100 - n_hist 3 state_size 3 action_size 375734.pth\n",
      "Pretrained model successfully loaded\n"
     ]
    }
   ],
   "source": [
    "# file_path = r'trained agents\\dataset_not_undefined\\20240605_170100 - n_hist 3 state_size 3 action_size 375734.pth'\n",
    "\n",
    "# pretrained_model = rl_recommender(mode='predicting',\n",
    "#                                   file_path = file_path,\n",
    "#                                   n_history=3,\n",
    "#                                   state_size=3,\n",
    "#                                   action_size=375734)\n",
    "\n",
    "# pretrained_model.fit(train_data)"
   ]
  },
  {
   "cell_type": "code",
   "execution_count": null,
   "metadata": {},
   "outputs": [],
   "source": []
  }
 ],
 "metadata": {
  "kernelspec": {
   "display_name": "master_thesis",
   "language": "python",
   "name": "python3"
  },
  "language_info": {
   "codemirror_mode": {
    "name": "ipython",
    "version": 3
   },
   "file_extension": ".py",
   "mimetype": "text/x-python",
   "name": "python",
   "nbconvert_exporter": "python",
   "pygments_lexer": "ipython3",
   "version": "3.9.19"
  }
 },
 "nbformat": 4,
 "nbformat_minor": 2
}
