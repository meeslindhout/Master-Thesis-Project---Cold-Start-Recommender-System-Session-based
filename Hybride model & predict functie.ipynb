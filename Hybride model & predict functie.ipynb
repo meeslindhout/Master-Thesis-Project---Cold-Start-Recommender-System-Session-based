{
 "cells": [
  {
   "cell_type": "code",
   "execution_count": 1,
   "metadata": {},
   "outputs": [],
   "source": [
    "import pandas as pd\n",
    "import numpy as np\n",
    "from src.recsys_dev import rl_recommender\n"
   ]
  },
  {
   "cell_type": "markdown",
   "metadata": {},
   "source": [
    "## Data loading"
   ]
  },
  {
   "cell_type": "code",
   "execution_count": 2,
   "metadata": {},
   "outputs": [
    {
     "ename": "NameError",
     "evalue": "name 'np' is not defined",
     "output_type": "error",
     "traceback": [
      "\u001b[1;31m---------------------------------------------------------------------------\u001b[0m",
      "\u001b[1;31mNameError\u001b[0m                                 Traceback (most recent call last)",
      "Cell \u001b[1;32mIn[2], line 6\u001b[0m\n\u001b[0;32m      1\u001b[0m train_data \u001b[38;5;241m=\u001b[39m pd\u001b[38;5;241m.\u001b[39mread_csv(\u001b[38;5;124mr\u001b[39m\u001b[38;5;124m'\u001b[39m\u001b[38;5;124mdata\u001b[39m\u001b[38;5;124m\\\u001b[39m\u001b[38;5;124mretailrocket\u001b[39m\u001b[38;5;124m\\\u001b[39m\u001b[38;5;124mprepared\u001b[39m\u001b[38;5;124m\\\u001b[39m\u001b[38;5;124mtrain-item-views_train_tr.txt\u001b[39m\u001b[38;5;124m'\u001b[39m,\n\u001b[0;32m      2\u001b[0m                     sep\u001b[38;5;241m=\u001b[39m\u001b[38;5;124m'\u001b[39m\u001b[38;5;130;01m\\t\u001b[39;00m\u001b[38;5;124m'\u001b[39m, nrows\u001b[38;5;241m=\u001b[39m\u001b[38;5;241m100\u001b[39m)\n\u001b[0;32m      5\u001b[0m \u001b[38;5;66;03m# Randomly fill the \"event\" column with values 0, 1, and 2\u001b[39;00m\n\u001b[1;32m----> 6\u001b[0m train_data[\u001b[38;5;124m'\u001b[39m\u001b[38;5;124mevent\u001b[39m\u001b[38;5;124m'\u001b[39m] \u001b[38;5;241m=\u001b[39m \u001b[43mnp\u001b[49m\u001b[38;5;241m.\u001b[39mrandom\u001b[38;5;241m.\u001b[39mchoice([\u001b[38;5;241m0\u001b[39m, \u001b[38;5;241m1\u001b[39m, \u001b[38;5;241m2\u001b[39m], size\u001b[38;5;241m=\u001b[39m\u001b[38;5;28mlen\u001b[39m(train_data))\n\u001b[0;32m      8\u001b[0m display(train_data\u001b[38;5;241m.\u001b[39mhead())\n\u001b[0;32m      9\u001b[0m display(train_data\u001b[38;5;241m.\u001b[39mshape)\n",
      "\u001b[1;31mNameError\u001b[0m: name 'np' is not defined"
     ]
    }
   ],
   "source": [
    "train_data = pd.read_csv(r'data\\retailrocket\\prepared\\train-item-views_train_tr.txt',\n",
    "                    sep='\\t', nrows=100)\n",
    "\n",
    "\n",
    "# Randomly fill the \"event\" column with values 0, 1, and 2\n",
    "train_data['event'] = np.random.choice([0, 1, 2], size=len(train_data))\n",
    "\n",
    "display(train_data.head())\n",
    "display(train_data.shape)"
   ]
  },
  {
   "cell_type": "code",
   "execution_count": null,
   "metadata": {},
   "outputs": [
    {
     "data": {
      "text/html": [
       "<div>\n",
       "<style scoped>\n",
       "    .dataframe tbody tr th:only-of-type {\n",
       "        vertical-align: middle;\n",
       "    }\n",
       "\n",
       "    .dataframe tbody tr th {\n",
       "        vertical-align: top;\n",
       "    }\n",
       "\n",
       "    .dataframe thead th {\n",
       "        text-align: right;\n",
       "    }\n",
       "</style>\n",
       "<table border=\"1\" class=\"dataframe\">\n",
       "  <thead>\n",
       "    <tr style=\"text-align: right;\">\n",
       "      <th></th>\n",
       "      <th>SessionId</th>\n",
       "      <th>Time</th>\n",
       "      <th>ItemId</th>\n",
       "      <th>Date</th>\n",
       "      <th>Datestamp</th>\n",
       "      <th>TimeO</th>\n",
       "      <th>ItemSupport</th>\n",
       "      <th>event</th>\n",
       "    </tr>\n",
       "  </thead>\n",
       "  <tbody>\n",
       "    <tr>\n",
       "      <th>0</th>\n",
       "      <td>289</td>\n",
       "      <td>1.464221e+09</td>\n",
       "      <td>125013</td>\n",
       "      <td>2016-05-26</td>\n",
       "      <td>1.464221e+09</td>\n",
       "      <td>2016-05-26 00:00:18.301000+00:00</td>\n",
       "      <td>10</td>\n",
       "      <td>0</td>\n",
       "    </tr>\n",
       "    <tr>\n",
       "      <th>1</th>\n",
       "      <td>289</td>\n",
       "      <td>1.464222e+09</td>\n",
       "      <td>64068</td>\n",
       "      <td>2016-05-26</td>\n",
       "      <td>1.464221e+09</td>\n",
       "      <td>2016-05-26 00:14:07.735000+00:00</td>\n",
       "      <td>30</td>\n",
       "      <td>1</td>\n",
       "    </tr>\n",
       "    <tr>\n",
       "      <th>2</th>\n",
       "      <td>289</td>\n",
       "      <td>1.464222e+09</td>\n",
       "      <td>133346</td>\n",
       "      <td>2016-05-26</td>\n",
       "      <td>1.464221e+09</td>\n",
       "      <td>2016-05-26 00:14:38.934000+00:00</td>\n",
       "      <td>36</td>\n",
       "      <td>1</td>\n",
       "    </tr>\n",
       "    <tr>\n",
       "      <th>3</th>\n",
       "      <td>289</td>\n",
       "      <td>1.464222e+09</td>\n",
       "      <td>438457</td>\n",
       "      <td>2016-05-26</td>\n",
       "      <td>1.464221e+09</td>\n",
       "      <td>2016-05-26 00:18:34.305000+00:00</td>\n",
       "      <td>6</td>\n",
       "      <td>1</td>\n",
       "    </tr>\n",
       "    <tr>\n",
       "      <th>4</th>\n",
       "      <td>289</td>\n",
       "      <td>1.464222e+09</td>\n",
       "      <td>198930</td>\n",
       "      <td>2016-05-26</td>\n",
       "      <td>1.464221e+09</td>\n",
       "      <td>2016-05-26 00:18:48.607000+00:00</td>\n",
       "      <td>10</td>\n",
       "      <td>1</td>\n",
       "    </tr>\n",
       "  </tbody>\n",
       "</table>\n",
       "</div>"
      ],
      "text/plain": [
       "   SessionId          Time  ItemId        Date     Datestamp  \\\n",
       "0        289  1.464221e+09  125013  2016-05-26  1.464221e+09   \n",
       "1        289  1.464222e+09   64068  2016-05-26  1.464221e+09   \n",
       "2        289  1.464222e+09  133346  2016-05-26  1.464221e+09   \n",
       "3        289  1.464222e+09  438457  2016-05-26  1.464221e+09   \n",
       "4        289  1.464222e+09  198930  2016-05-26  1.464221e+09   \n",
       "\n",
       "                              TimeO  ItemSupport  event  \n",
       "0  2016-05-26 00:00:18.301000+00:00           10      0  \n",
       "1  2016-05-26 00:14:07.735000+00:00           30      1  \n",
       "2  2016-05-26 00:14:38.934000+00:00           36      1  \n",
       "3  2016-05-26 00:18:34.305000+00:00            6      1  \n",
       "4  2016-05-26 00:18:48.607000+00:00           10      1  "
      ]
     },
     "metadata": {},
     "output_type": "display_data"
    },
    {
     "data": {
      "text/plain": [
       "(40, 8)"
      ]
     },
     "metadata": {},
     "output_type": "display_data"
    }
   ],
   "source": [
    "test_data = pd.read_csv(r'data\\retailrocket\\prepared\\train-item-views_test.txt',\n",
    "                    sep='\\t', nrows=40)\n",
    "\n",
    "# Randomly fill the \"event\" column with values 0, 1, and 2\n",
    "test_data['event'] = np.random.choice([0, 1, 2], size=len(test_data))\n",
    "\n",
    "display(test_data.head())\n",
    "display(test_data.shape)"
   ]
  },
  {
   "cell_type": "markdown",
   "metadata": {},
   "source": [
    "## Load pretrained model"
   ]
  },
  {
   "cell_type": "code",
   "execution_count": 4,
   "metadata": {},
   "outputs": [
    {
     "name": "stdout",
     "output_type": "stream",
     "text": [
      "Initializing offline training agent\n",
      "Loading pretrained model from: trained agents\\dataset_not_undefined\\20240605_170100 - n_hist 3 state_size 3 action_size 375734.pth\n",
      "Pretrained model successfully loaded\n"
     ]
    }
   ],
   "source": [
    "file_path = r'trained agents\\dataset_not_undefined\\20240605_170100 - n_hist 3 state_size 3 action_size 375734.pth'\n",
    "\n",
    "model = rl_recommender(mode='predicting',\n",
    "                       file_path = file_path,\n",
    "                       n_history=3,\n",
    "                       state_size=3,\n",
    "                       action_size=375734)\n",
    "\n",
    "model.fit(train_data)"
   ]
  },
  {
   "cell_type": "markdown",
   "metadata": {},
   "source": [
    "## Predict with pretrained data"
   ]
  },
  {
   "cell_type": "code",
   "execution_count": 5,
   "metadata": {},
   "outputs": [
    {
     "ename": "AttributeError",
     "evalue": "'rl_recommender' object has no attribute 'predict_next'",
     "output_type": "error",
     "traceback": [
      "\u001b[1;31m---------------------------------------------------------------------------\u001b[0m",
      "\u001b[1;31mAttributeError\u001b[0m                            Traceback (most recent call last)",
      "Cell \u001b[1;32mIn[5], line 1\u001b[0m\n\u001b[1;32m----> 1\u001b[0m predictions \u001b[38;5;241m=\u001b[39m \u001b[43mmodel\u001b[49m\u001b[38;5;241;43m.\u001b[39;49m\u001b[43mpredict_next\u001b[49m(session_id\u001b[38;5;241m=\u001b[39m\u001b[38;5;241m289\u001b[39m, \n\u001b[0;32m      2\u001b[0m                                      input_item_id\u001b[38;5;241m=\u001b[39m\u001b[38;5;241m133346\u001b[39m,\n\u001b[0;32m      3\u001b[0m                                      predict_for_item_ids\u001b[38;5;241m=\u001b[39mtrain_data[\u001b[38;5;124m'\u001b[39m\u001b[38;5;124mItemId\u001b[39m\u001b[38;5;124m'\u001b[39m]\u001b[38;5;241m.\u001b[39munique())\n\u001b[0;32m      4\u001b[0m \u001b[38;5;28mprint\u001b[39m(predictions)\n\u001b[0;32m      5\u001b[0m \u001b[38;5;28mprint\u001b[39m(\u001b[38;5;124mf\u001b[39m\u001b[38;5;124m'\u001b[39m\u001b[38;5;124mList with prediction scores, (probabilities)\u001b[39m\u001b[38;5;124m'\u001b[39m)\n",
      "\u001b[1;31mAttributeError\u001b[0m: 'rl_recommender' object has no attribute 'predict_next'"
     ]
    }
   ],
   "source": [
    "predictions = model.predict_next(session_id=289, \n",
    "                                     input_item_id=133346,\n",
    "                                     predict_for_item_ids=train_data['ItemId'].unique())\n",
    "print(predictions)\n",
    "print(f'List with prediction scores, (probabilities)')"
   ]
  }
 ],
 "metadata": {
  "kernelspec": {
   "display_name": "master_thesis",
   "language": "python",
   "name": "python3"
  },
  "language_info": {
   "codemirror_mode": {
    "name": "ipython",
    "version": 3
   },
   "file_extension": ".py",
   "mimetype": "text/x-python",
   "name": "python",
   "nbconvert_exporter": "python",
   "pygments_lexer": "ipython3",
   "version": "3.9.19"
  }
 },
 "nbformat": 4,
 "nbformat_minor": 2
}
